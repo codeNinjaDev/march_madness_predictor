{
 "cells": [
  {
   "attachments": {},
   "cell_type": "markdown",
   "id": "a736cf4b",
   "metadata": {},
   "source": [
    "\n",
    "# March Madness Match Predictor\n",
    "Authors: Peter Chacko (pic282), Imran Hussein (ih5296) Ethan Lopez (esl834),\n",
    "Bidhan Devkota (bd25229)\n",
    "\n",
    "## Introduction\n",
    "What is the machine learning problem you are trying to solve:\n",
    "\n",
    "Each year, the NCAA Men's College Basketball tournament (March Madness) gathers excitement and speculation from fans. Both casual and hard-core basketball fans compete to predict the outcome of each match, which frequently results in upsets. Our machine learning project aims to predict the outcome of a March Madness matchup using the data found on Kaggle.\n",
    " \n",
    "*Why does the problem matter?*\n",
    " \n",
    " Every year, thousands of people submit their tournament bracket predictions toof our predictive model could be used for creating bracket challenges as basketball fans compete against each other in predicting the outcomes of each  contests for chances to win big prizes and bragging rights. At this point it has become college basketball culture and people take it very seriously. From the casual perspective, where people pick winners based on their favorite mascot, to more serious analytical perspectives where people leverage statistical patterns - we thought it would be interesting to take a machine learning approach. \n",
    " \n",
    "*What could the results of your predictive model be used for?*\n",
    "\n",
    "The most obvious and satisfying result of creating a March Madness matchup predictor is to leverage Big Data and machine learning against friends and family mock brackets.\n",
    "   \n",
    "*Then describe the dataset that you will use to tackle this problem.*\n",
    "\n",
    "The [Kaggle March Madness Dataset](https://www.kaggle.com/datasets/nishaanamin/march-madness-data) has a plethora of data split across multiple files:\n",
    "\n",
    "- 2023 Conference Data.csv\n",
    "  - This dataset features the conferences and their stats from the 2022 - 2023 season. All of the stats given represent the average stats of the conference throughout the entire season including the conference tournaments. It also features how well each conference did in the tournament by featuring how many teams in that conference made it to the specific rounds as well.\n",
    "- 2023 Game Data.csv\n",
    "  - This dataset features several potential matchups for the 2023 tournament. It includes all First Round matchups, common Second Round matchups, and common Sweet 16 matchups. This dataset was created to predict the results of these specific matchups in my March Madness notebook. Every two rows represent a matchup. For example, the first two rows (Alabama and Grambling) represent a matchup between the two teams. The subsequent rows (Alabama and Howard) represent a matchup between another two teams and so on. All of the stats given represent the average stats of the team throughout the entire season including their conference tournament.\n",
    "\n",
    "- 2023 Tournament Data.csv\n",
    "  - This dataset features the teams and their stats for the 2023 tournament. All of the stats given represent the average stats of the team throughout the entire season including their conference tournament.\n",
    "\n",
    "\n",
    "- 2023 Tournament Trends.csv\n",
    "  - This dataset features the teams and some specific stats for the 2023 tournament teams. All of the stats given represent the average stats of the team throughout the entire season including their conference tournament. The Points Per Game, Win % (Close Games), Away Win %, Neutral Win %, Away - Neutral Win %, and Scoring Margin stats pertain to the 2023 teams that are the top 11 seeds. The BADJ O Rank Difference and BADJ D Rank Difference pertain to the 2023 teams that have a differential of 30 or greater for offense / defense. The TOV % and TOV % Rank pertain to the 2023 teams that have a TOV % greater than or equal to 18 %. The 3PT % and 3PT % Defense pertain to the 2023 teams that shoot 33 % or below from 3.\n",
    "  \n",
    "- Game Data.csv\n",
    "  - This dataset features the boxscores of all games since 2008 (including 2023). This includes the non-conference games, the conference games, the conference tournament games, and the national tournament games.\n",
    "\n",
    "- Tournament Conference Data.csv\n",
    "  - This dataset features the conferences and their stats from all tournaments since 2008. All of the stats given represent the average stats of the conference throughout the entire season including the conference tournaments. It also features how well each conference did in the tournament by featuring how many teams in that conference made it to the specific rounds as well.\n",
    "\n",
    "- Tournament Game Data.csv\n",
    "  - This dataset features several potential matchups for the 2023 tournament. It includes all First Round matchups, common Second Round matchups, and common Sweet 16 matchups. This dataset was created to predict the results of these specific matchups in my March Madness notebook. Every two rows represent a matchup. For example, the first two rows (Alabama and Grambling) represent a matchup between the two teams. The subsequent rows (Alabama and Howard) represent a matchup between another two teams and so on. All of the stats given represent the average stats of the team throughout the entire season including their conference tournament.\n",
    "  \n",
    "  \n",
    "- Tournament Game Data.csv\n",
    "  - This dataset features several potential matchups for past tournaments since 2008. It includes all First Round matchups, common Second Round matchups, and common Sweet 16 matchups. This dataset was created to predict the results of these specific matchups in my March Madness notebook. Every two rows represent a matchup. For example, the first two rows (Gonzaga and Georgia St.) represent a matchup between the two teams. The subsequent rows (Boise St. and Memphis) represent a matchup between another two teams and so on. All of the stats given represent the average stats of the team throughout the entire season including their conference tournament. \n",
    "\n",
    "Unfortunately, the only data file that we could feasibly use was the Tournament Game Data file. We ultimately decided that previous tournament outcomes would be most valuable in predicting future tournament outcomes. Also, a lot of data was missing from various other files and would have been useless without a complete dataset. (We explored this removed them from the notebook to remove clutter as there are a lot of different files)"
   ]
  },
  {
   "cell_type": "code",
   "execution_count": 79,
   "id": "88572323",
   "metadata": {},
   "outputs": [],
   "source": [
    "import pandas as pd\n",
    "import numpy as np\n",
    "import matplotlib.pyplot as plt\n",
    "\n",
    "%matplotlib inline\n",
    "\n",
    "import warnings\n",
    "warnings.simplefilter(action='ignore', category=FutureWarning)"
   ]
  },
  {
   "attachments": {},
   "cell_type": "markdown",
   "id": "6fd828c5",
   "metadata": {},
   "source": [
    "We begin our process by doing some basic data exploration on the previous tournament game data - loading in the csv files, counting records, and checking for null values."
   ]
  },
  {
   "cell_type": "code",
   "execution_count": 80,
   "id": "7b6939d0",
   "metadata": {},
   "outputs": [
    {
     "name": "stdout",
     "output_type": "stream",
     "text": [
      "   YEAR  SEED         TEAM  TEAM ROUND  CURRENT ROUND  \\\n",
      "0  2022     1      Gonzaga          16             64   \n",
      "1  2022    16  Georgia St.          64             64   \n",
      "2  2022     8    Boise St.          64             64   \n",
      "3  2022     9      Memphis          32             64   \n",
      "4  2022     5  Connecticut          64             64   \n",
      "\n",
      "   KENPOM ADJUSTED EFFICIENCY  KENPOM ADJUSTED OFFENSE  \\\n",
      "0                        33.0                    121.8   \n",
      "1                         1.8                    101.5   \n",
      "2                        16.4                    108.4   \n",
      "3                        16.2                    110.4   \n",
      "4                        19.3                    113.9   \n",
      "\n",
      "   KENPOM ADJUSTED DEFENSE  KENPOM ADJUSTED TEMPO  \\\n",
      "0                     88.8                   72.5   \n",
      "1                     99.7                   67.1   \n",
      "2                     92.0                   64.6   \n",
      "3                     94.1                   70.3   \n",
      "4                     94.6                   64.9   \n",
      "\n",
      "   BARTTORVIK ADJUSTED EFFICIENCY  ...  OP D REB %  BLOCKED %  \\\n",
      "0                            31.8  ...        71.0        6.6   \n",
      "1                             1.4  ...        67.2        8.9   \n",
      "2                            15.2  ...        69.4        8.9   \n",
      "3                            17.5  ...        62.5        9.1   \n",
      "4                            18.6  ...        62.0        8.3   \n",
      "\n",
      "   TURNOVER % DEFENSE  WINS ABOVE BUBBLE  WIN %  \\\n",
      "0                17.0                6.7  89.66   \n",
      "1                22.7               -5.2  60.00   \n",
      "2                20.1                3.5  78.79   \n",
      "3                20.9                1.4  67.74   \n",
      "4                18.0                3.2  71.88   \n",
      "\n",
      "   POINTS PER POSSESSION OFFENSE  POINTS PER POSSESSION DEFENSE  SCORE  ID  \\\n",
      "0                          1.190                          0.885     93   1   \n",
      "1                          0.993                          0.978     72   2   \n",
      "2                          1.038                          0.928     53   3   \n",
      "3                          1.056                          0.957     64   4   \n",
      "4                          1.099                          0.953     63   5   \n",
      "\n",
      "        TEAM.1  \n",
      "0      Gonzaga  \n",
      "1  Georgia St.  \n",
      "2    Boise St.  \n",
      "3      Memphis  \n",
      "4  Connecticut  \n",
      "\n",
      "[5 rows x 44 columns]\n"
     ]
    }
   ],
   "source": [
    "tournament_game_data_2023 = pd.read_csv(\"data/Tournament Game Data.csv\", na_values=[r'?'])\n",
    "print(tournament_game_data_2023.head())"
   ]
  },
  {
   "attachments": {},
   "cell_type": "markdown",
   "id": "df297495",
   "metadata": {},
   "source": [
    "After the above cell is run, we start to see the format in which the previous tournament game data is structured. Singular game data is represented by two rows, where each row has data on a participating team. In the head, we see that the first game is between Gonzaga (row 0) and Georgia St (row 1). Even the outcome is split up in the form of team 1 score and team 2 score - each existing on their dedicated row."
   ]
  },
  {
   "cell_type": "code",
   "execution_count": 81,
   "id": "bfe176ae",
   "metadata": {},
   "outputs": [
    {
     "name": "stdout",
     "output_type": "stream",
     "text": [
      "Tournamnet Data Record Count\n",
      "(1910, 44)\n",
      "Tournament Data Null Values:\n",
      "0\n"
     ]
    }
   ],
   "source": [
    "print(\"Tournamnet Data Record Count\")\n",
    "print(tournament_game_data_2023.shape)\n",
    "\n",
    "print(\"Tournament Data Null Values:\")\n",
    "print(tournament_game_data_2023.isnull().sum().max())"
   ]
  },
  {
   "attachments": {},
   "cell_type": "markdown",
   "id": "6fb4d14d",
   "metadata": {},
   "source": [
    "This dataset is already complete in that it has 0 null values. The total dataset includes 1910 records, with 44 attributes. \n",
    "\n",
    "However, we do not want to feed in multiple records as single inputs to our model. We will have to feature engineer the data, to stitch together every two rows in order to transform them into singular records that have data associated with single games. Effectively, this will result in the data having 955 games (rows), with 88 attributes.\n",
    "\n",
    "Interestingly enough, we have identified the opportunity for a class imbalance. In the current way that the data is structured, team 1 will always be a higher seed and there will be a lot more team 1s with wins over team 2. Our original goal with our model wasn't to be able to accurately predict only upsets - rather we wanted to take in the attributes of two teams in order to determine a winner.\n",
    "\n",
    "In order to help balance this out, we will alternate team assignments between team 1 and 2."
   ]
  },
  {
   "cell_type": "code",
   "execution_count": 82,
   "id": "05b4b879",
   "metadata": {},
   "outputs": [
    {
     "name": "stdout",
     "output_type": "stream",
     "text": [
      "     YEAR  SEED           TEAM  TEAM ROUND  CURRENT ROUND  \\\n",
      "0    2022     1        Gonzaga          16             64   \n",
      "1    2022     9        Memphis          32             64   \n",
      "2    2022     5    Connecticut          64             64   \n",
      "3    2022    13        Vermont          64             64   \n",
      "4    2022     6        Alabama          64             64   \n",
      "..    ...   ...            ...         ...            ...   \n",
      "950  2023     1         Kansas           0              0   \n",
      "951  2023     5  San Diego St.           0              0   \n",
      "952  2023     1         Purdue           0              0   \n",
      "953  2023     5       Miami FL           0              0   \n",
      "954  2023     1         Kansas           0              0   \n",
      "\n",
      "     KENPOM ADJUSTED EFFICIENCY  KENPOM ADJUSTED OFFENSE  \\\n",
      "0                       33.0000                  121.800   \n",
      "1                       16.2000                  110.400   \n",
      "2                       19.3000                  113.900   \n",
      "3                       13.1000                  110.800   \n",
      "4                       17.4000                  116.100   \n",
      "..                          ...                      ...   \n",
      "950                     23.1345                  114.703   \n",
      "951                     20.2804                  112.035   \n",
      "952                     24.7732                  119.951   \n",
      "953                     14.9150                  118.327   \n",
      "954                     23.1345                  114.703   \n",
      "\n",
      "     KENPOM ADJUSTED DEFENSE  KENPOM ADJUSTED TEMPO  \\\n",
      "0                    88.8000                72.5000   \n",
      "1                    94.1000                70.3000   \n",
      "2                    94.6000                64.9000   \n",
      "3                    97.7000                65.0000   \n",
      "4                    98.7000                71.7000   \n",
      "..                       ...                    ...   \n",
      "950                  91.5684                69.2256   \n",
      "951                  91.7542                65.9638   \n",
      "952                  95.1774                64.2174   \n",
      "953                 103.4120                68.8077   \n",
      "954                  91.5684                69.2256   \n",
      "\n",
      "     BARTTORVIK ADJUSTED EFFICIENCY  ...  OP D REB %  BLOCKED %  \\\n",
      "0                            31.800  ...        67.2        8.9   \n",
      "1                            17.500  ...        69.4        8.9   \n",
      "2                            18.600  ...        66.7        6.3   \n",
      "3                            12.100  ...        69.1        8.7   \n",
      "4                            17.800  ...        77.9        9.1   \n",
      "..                              ...  ...         ...        ...   \n",
      "950                          21.359  ...        60.8        8.3   \n",
      "951                          22.364  ...        66.2       11.4   \n",
      "952                          25.247  ...        63.8        9.6   \n",
      "953                          15.664  ...        62.9        6.6   \n",
      "954                          21.359  ...        66.9       10.1   \n",
      "\n",
      "     TURNOVER % DEFENSE  WINS ABOVE BUBBLE      WIN %  \\\n",
      "0                  22.7               -5.2  60.000000   \n",
      "1                  20.1                3.5  78.790000   \n",
      "2                  16.9                0.7  79.310000   \n",
      "3                  20.6                4.5  75.760000   \n",
      "4                  15.0                1.8  67.740000   \n",
      "..                  ...                ...        ...   \n",
      "950                19.4                5.0  75.757576   \n",
      "951                16.0               10.6  85.294118   \n",
      "952                16.6                4.3  76.470588   \n",
      "953                22.0                8.4  91.176471   \n",
      "954                19.0                3.9  78.125000   \n",
      "\n",
      "     POINTS PER POSSESSION OFFENSE  POINTS PER POSSESSION DEFENSE  SCORE  ID  \\\n",
      "0                            0.993                          0.978     72   2   \n",
      "1                            1.038                          0.928     53   3   \n",
      "2                            1.050                          0.958     70   6   \n",
      "3                            1.060                          0.945     75   7   \n",
      "4                            1.083                          1.007     78  10   \n",
      "..                             ...                            ...    ...  ..   \n",
      "950                          1.144                          0.949      0   0   \n",
      "951                          1.106                          0.922      0   0   \n",
      "952                          1.100                          0.970      0   0   \n",
      "953                          1.158                          0.872      0   0   \n",
      "954                          1.103                          0.933      0   0   \n",
      "\n",
      "             TEAM.1  \n",
      "0       Georgia St.  \n",
      "1         Boise St.  \n",
      "2    New Mexico St.  \n",
      "3          Arkansas  \n",
      "4        Notre Dame  \n",
      "..              ...  \n",
      "950     Connecticut  \n",
      "951         Alabama  \n",
      "952            Duke  \n",
      "953         Houston  \n",
      "954    Saint Mary's  \n",
      "\n",
      "[955 rows x 88 columns]\n",
      "(955, 88)\n"
     ]
    }
   ],
   "source": [
    "# Combine every game into a single record\n",
    "tournament_game_matchups = pd.DataFrame()\n",
    "for i, group in tournament_game_data_2023.groupby(tournament_game_data_2023.index // 2):\n",
    "    # Alternate team assignments\n",
    "    if i % 2 == 0:\n",
    "        game = group.iloc[0].append(group.iloc[1])\n",
    "        tournament_game_matchups = tournament_game_matchups.append(game, ignore_index=True)\n",
    "    else:\n",
    "        game = group.iloc[1].append(group.iloc[0])\n",
    "        tournament_game_matchups = tournament_game_matchups.append(game, ignore_index=True)\n",
    "\n",
    "# Print the head of the new dataframe\n",
    "print(tournament_game_matchups)\n",
    "# Print the shape of the new dataframe, should be double columns half the rows\n",
    "print(tournament_game_matchups.shape)"
   ]
  },
  {
   "attachments": {},
   "cell_type": "markdown",
   "id": "2c6fd768",
   "metadata": {},
   "source": [
    "After running the cell above, we see that our efforts were successful. The shape of our dataset is now 955 x 88.\n",
    "\n",
    "\n",
    "However, now we have double of each statistic and the column names are identical. Therefore, must do some basic data cleaning.\n",
    "\n",
    "Firstly, we should make the first 44 rows (the number of features per team) specify team 1, and the other team 2"
   ]
  },
  {
   "cell_type": "code",
   "execution_count": 83,
   "id": "f14f7da3",
   "metadata": {},
   "outputs": [
    {
     "name": "stdout",
     "output_type": "stream",
     "text": [
      "Index(['YEAR (TEAM 1)', 'SEED (TEAM 1)', 'TEAM (TEAM 1)',\n",
      "       'TEAM ROUND (TEAM 1)', 'CURRENT ROUND (TEAM 1)',\n",
      "       'KENPOM ADJUSTED EFFICIENCY (TEAM 1)',\n",
      "       'KENPOM ADJUSTED OFFENSE (TEAM 1)', 'KENPOM ADJUSTED DEFENSE (TEAM 1)',\n",
      "       'KENPOM ADJUSTED TEMPO (TEAM 1)',\n",
      "       'BARTTORVIK ADJUSTED EFFICIENCY (TEAM 1)',\n",
      "       'BARTTORVIK ADJUSTED OFFENSE (TEAM 1)',\n",
      "       'BARTTORVIK ADJUSTED DEFENSE (TEAM 1)', 'BARTHAG (TEAM 1)',\n",
      "       'ELITE SOS (TEAM 1)', 'BARTTORVIK ADJUSTED TEMPO (TEAM 1)',\n",
      "       '2PT % (TEAM 1)', '3PT % (TEAM 1)', 'FREE THROW % (TEAM 1)',\n",
      "       'EFG % (TEAM 1)', 'FREE THROW RATE (TEAM 1)', '3PT RATE (TEAM 1)',\n",
      "       'ASSIST % (TEAM 1)', 'OFFENSIVE REBOUND % (TEAM 1)',\n",
      "       'DEFENSIVE REBOUND % (TEAM 1)', 'BLOCK % (TEAM 1)',\n",
      "       'TURNOVER % (TEAM 1)', '2PT % DEFENSE (TEAM 1)',\n",
      "       '3PT % DEFENSE (TEAM 1)', 'FREE THROW % DEFENSE (TEAM 1)',\n",
      "       'EFG % DEFENSE (TEAM 1)', 'FREE THROW RATE DEFENSE (TEAM 1)',\n",
      "       '3PT RATE DEFENSE (TEAM 1)', 'OP ASSIST % (TEAM 1)',\n",
      "       'OP O REB % (TEAM 1)', 'OP D REB % (TEAM 1)', 'BLOCKED % (TEAM 1)',\n",
      "       'TURNOVER % DEFENSE (TEAM 1)', 'WINS ABOVE BUBBLE (TEAM 1)',\n",
      "       'WIN % (TEAM 1)', 'POINTS PER POSSESSION OFFENSE (TEAM 1)',\n",
      "       'POINTS PER POSSESSION DEFENSE (TEAM 1)', 'SCORE (TEAM 1)',\n",
      "       'ID (TEAM 1)', 'TEAM (TEAM 1)', 'YEAR (TEAM 2)', 'SEED (TEAM 2)',\n",
      "       'TEAM (TEAM 2)', 'TEAM ROUND (TEAM 2)', 'CURRENT ROUND (TEAM 2)',\n",
      "       'KENPOM ADJUSTED EFFICIENCY (TEAM 2)',\n",
      "       'KENPOM ADJUSTED OFFENSE (TEAM 2)', 'KENPOM ADJUSTED DEFENSE (TEAM 2)',\n",
      "       'KENPOM ADJUSTED TEMPO (TEAM 2)',\n",
      "       'BARTTORVIK ADJUSTED EFFICIENCY (TEAM 2)',\n",
      "       'BARTTORVIK ADJUSTED OFFENSE (TEAM 2)',\n",
      "       'BARTTORVIK ADJUSTED DEFENSE (TEAM 2)', 'BARTHAG (TEAM 2)',\n",
      "       'ELITE SOS (TEAM 2)', 'BARTTORVIK ADJUSTED TEMPO (TEAM 2)',\n",
      "       '2PT % (TEAM 2)', '3PT % (TEAM 2)', 'FREE THROW % (TEAM 2)',\n",
      "       'EFG % (TEAM 2)', 'FREE THROW RATE (TEAM 2)', '3PT RATE (TEAM 2)',\n",
      "       'ASSIST % (TEAM 2)', 'OFFENSIVE REBOUND % (TEAM 2)',\n",
      "       'DEFENSIVE REBOUND % (TEAM 2)', 'BLOCK % (TEAM 2)',\n",
      "       'TURNOVER % (TEAM 2)', '2PT % DEFENSE (TEAM 2)',\n",
      "       '3PT % DEFENSE (TEAM 2)', 'FREE THROW % DEFENSE (TEAM 2)',\n",
      "       'EFG % DEFENSE (TEAM 2)', 'FREE THROW RATE DEFENSE (TEAM 2)',\n",
      "       '3PT RATE DEFENSE (TEAM 2)', 'OP ASSIST % (TEAM 2)',\n",
      "       'OP O REB % (TEAM 2)', 'OP D REB % (TEAM 2)', 'BLOCKED % (TEAM 2)',\n",
      "       'TURNOVER % DEFENSE (TEAM 2)', 'WINS ABOVE BUBBLE (TEAM 2)',\n",
      "       'WIN % (TEAM 2)', 'POINTS PER POSSESSION OFFENSE (TEAM 2)',\n",
      "       'POINTS PER POSSESSION DEFENSE (TEAM 2)', 'SCORE (TEAM 2)',\n",
      "       'ID (TEAM 2)', 'TEAM (TEAM 2)'],\n",
      "      dtype='object')\n"
     ]
    }
   ],
   "source": [
    "tournament_game_matchups.rename(columns={\"TEAM.1\": \"TEAM\"}, inplace=True)\n",
    "for i, col_name in enumerate(tournament_game_matchups.columns):\n",
    "    if i < 44:\n",
    "        tournament_game_matchups.columns.values[i] = tournament_game_matchups.columns.values[i].replace(\" (TEAM 1)\", \"\") + \" (TEAM 1)\"\n",
    "    else: \n",
    "        tournament_game_matchups.columns.values[i] = tournament_game_matchups.columns.values[i].replace(\" (TEAM 2)\", \"\") + \" (TEAM 2)\"\n",
    "\n",
    "print(tournament_game_matchups.columns)"
   ]
  },
  {
   "attachments": {},
   "cell_type": "markdown",
   "id": "cbad24e0",
   "metadata": {},
   "source": [
    "\n",
    "Now, there exist some duplicate and redundant values such as TEAM, YEAR, TEAM ROUND, ID. We do not want TEAM ROUND - the last round the team has played in - to be a factor in our input data as it is impossible to compute that as all games are concurrent. As for TEAM, YEAR, and ID - those should not necessarily have an impact on the outcome of the game, so we will drop them from our dataset."
   ]
  },
  {
   "cell_type": "code",
   "execution_count": 84,
   "id": "715f805b",
   "metadata": {},
   "outputs": [
    {
     "name": "stdout",
     "output_type": "stream",
     "text": [
      "Index(['SEED (TEAM 1)', 'CURRENT ROUND (TEAM 1)',\n",
      "       'KENPOM ADJUSTED EFFICIENCY (TEAM 1)',\n",
      "       'KENPOM ADJUSTED OFFENSE (TEAM 1)', 'KENPOM ADJUSTED DEFENSE (TEAM 1)',\n",
      "       'KENPOM ADJUSTED TEMPO (TEAM 1)',\n",
      "       'BARTTORVIK ADJUSTED EFFICIENCY (TEAM 1)',\n",
      "       'BARTTORVIK ADJUSTED OFFENSE (TEAM 1)',\n",
      "       'BARTTORVIK ADJUSTED DEFENSE (TEAM 1)', 'BARTHAG (TEAM 1)',\n",
      "       'ELITE SOS (TEAM 1)', 'BARTTORVIK ADJUSTED TEMPO (TEAM 1)',\n",
      "       '2PT % (TEAM 1)', '3PT % (TEAM 1)', 'FREE THROW % (TEAM 1)',\n",
      "       'EFG % (TEAM 1)', 'FREE THROW RATE (TEAM 1)', '3PT RATE (TEAM 1)',\n",
      "       'ASSIST % (TEAM 1)', 'OFFENSIVE REBOUND % (TEAM 1)',\n",
      "       'DEFENSIVE REBOUND % (TEAM 1)', 'BLOCK % (TEAM 1)',\n",
      "       'TURNOVER % (TEAM 1)', '2PT % DEFENSE (TEAM 1)',\n",
      "       '3PT % DEFENSE (TEAM 1)', 'FREE THROW % DEFENSE (TEAM 1)',\n",
      "       'EFG % DEFENSE (TEAM 1)', 'FREE THROW RATE DEFENSE (TEAM 1)',\n",
      "       '3PT RATE DEFENSE (TEAM 1)', 'OP ASSIST % (TEAM 1)',\n",
      "       'OP O REB % (TEAM 1)', 'OP D REB % (TEAM 1)', 'BLOCKED % (TEAM 1)',\n",
      "       'TURNOVER % DEFENSE (TEAM 1)', 'WINS ABOVE BUBBLE (TEAM 1)',\n",
      "       'WIN % (TEAM 1)', 'POINTS PER POSSESSION OFFENSE (TEAM 1)',\n",
      "       'POINTS PER POSSESSION DEFENSE (TEAM 1)', 'SCORE (TEAM 1)',\n",
      "       'SEED (TEAM 2)', 'CURRENT ROUND (TEAM 2)',\n",
      "       'KENPOM ADJUSTED EFFICIENCY (TEAM 2)',\n",
      "       'KENPOM ADJUSTED OFFENSE (TEAM 2)', 'KENPOM ADJUSTED DEFENSE (TEAM 2)',\n",
      "       'KENPOM ADJUSTED TEMPO (TEAM 2)',\n",
      "       'BARTTORVIK ADJUSTED EFFICIENCY (TEAM 2)',\n",
      "       'BARTTORVIK ADJUSTED OFFENSE (TEAM 2)',\n",
      "       'BARTTORVIK ADJUSTED DEFENSE (TEAM 2)', 'BARTHAG (TEAM 2)',\n",
      "       'ELITE SOS (TEAM 2)', 'BARTTORVIK ADJUSTED TEMPO (TEAM 2)',\n",
      "       '2PT % (TEAM 2)', '3PT % (TEAM 2)', 'FREE THROW % (TEAM 2)',\n",
      "       'EFG % (TEAM 2)', 'FREE THROW RATE (TEAM 2)', '3PT RATE (TEAM 2)',\n",
      "       'ASSIST % (TEAM 2)', 'OFFENSIVE REBOUND % (TEAM 2)',\n",
      "       'DEFENSIVE REBOUND % (TEAM 2)', 'BLOCK % (TEAM 2)',\n",
      "       'TURNOVER % (TEAM 2)', '2PT % DEFENSE (TEAM 2)',\n",
      "       '3PT % DEFENSE (TEAM 2)', 'FREE THROW % DEFENSE (TEAM 2)',\n",
      "       'EFG % DEFENSE (TEAM 2)', 'FREE THROW RATE DEFENSE (TEAM 2)',\n",
      "       '3PT RATE DEFENSE (TEAM 2)', 'OP ASSIST % (TEAM 2)',\n",
      "       'OP O REB % (TEAM 2)', 'OP D REB % (TEAM 2)', 'BLOCKED % (TEAM 2)',\n",
      "       'TURNOVER % DEFENSE (TEAM 2)', 'WINS ABOVE BUBBLE (TEAM 2)',\n",
      "       'WIN % (TEAM 2)', 'POINTS PER POSSESSION OFFENSE (TEAM 2)',\n",
      "       'POINTS PER POSSESSION DEFENSE (TEAM 2)', 'SCORE (TEAM 2)'],\n",
      "      dtype='object')\n"
     ]
    }
   ],
   "source": [
    "dropped_columns = ['YEAR (TEAM 1)', 'TEAM (TEAM 1)',\n",
    "                    'TEAM ROUND (TEAM 1)', 'ID (TEAM 1)',\n",
    "                    'TEAM (TEAM 1)',\n",
    "                    'YEAR (TEAM 2)', 'TEAM (TEAM 2)',\n",
    "                    'TEAM ROUND (TEAM 2)', 'ID (TEAM 2)',\n",
    "                    'TEAM (TEAM 2)']\n",
    "tournament_game_matchups = tournament_game_matchups.drop(columns=dropped_columns)\n",
    "\n",
    "print(tournament_game_matchups.columns)"
   ]
  },
  {
   "attachments": {},
   "cell_type": "markdown",
   "id": "319a57e5",
   "metadata": {},
   "source": [
    "\n",
    "#### Creating Label\n",
    "We have another issue, we do not want our label to be the score; however, instead, we want\n",
    "which team was the winner: Team 1 or Team 2\n",
    "\n",
    "Instead of score, we will replace column with 0 if team 1 won or 1 if team 2 won."
   ]
  },
  {
   "cell_type": "code",
   "execution_count": 85,
   "id": "99aa812d",
   "metadata": {},
   "outputs": [
    {
     "name": "stdout",
     "output_type": "stream",
     "text": [
      "   SEED (TEAM 1)  CURRENT ROUND (TEAM 1)  KENPOM ADJUSTED EFFICIENCY (TEAM 1)  \\\n",
      "0              1                      64                                 33.0   \n",
      "1              9                      64                                 16.2   \n",
      "2              5                      64                                 19.3   \n",
      "3             13                      64                                 13.1   \n",
      "4              6                      64                                 17.4   \n",
      "\n",
      "   KENPOM ADJUSTED OFFENSE (TEAM 1)  KENPOM ADJUSTED DEFENSE (TEAM 1)  \\\n",
      "0                             121.8                              88.8   \n",
      "1                             110.4                              94.1   \n",
      "2                             113.9                              94.6   \n",
      "3                             110.8                              97.7   \n",
      "4                             116.1                              98.7   \n",
      "\n",
      "   KENPOM ADJUSTED TEMPO (TEAM 1)  BARTTORVIK ADJUSTED EFFICIENCY (TEAM 1)  \\\n",
      "0                            72.5                                     31.8   \n",
      "1                            70.3                                     17.5   \n",
      "2                            64.9                                     18.6   \n",
      "3                            65.0                                     12.1   \n",
      "4                            71.7                                     17.8   \n",
      "\n",
      "   BARTTORVIK ADJUSTED OFFENSE (TEAM 1)  BARTTORVIK ADJUSTED DEFENSE (TEAM 1)  \\\n",
      "0                                 120.2                                  88.4   \n",
      "1                                 110.3                                  92.8   \n",
      "2                                 113.0                                  94.4   \n",
      "3                                 109.7                                  97.6   \n",
      "4                                 115.9                                  98.1   \n",
      "\n",
      "   BARTHAG (TEAM 1)  ...  OP O REB % (TEAM 2)  OP D REB % (TEAM 2)  \\\n",
      "0             0.972  ...                 30.7                 67.2   \n",
      "1             0.879  ...                 21.9                 69.4   \n",
      "2             0.888  ...                 26.2                 66.7   \n",
      "3             0.793  ...                 25.8                 69.1   \n",
      "4             0.872  ...                 24.0                 77.9   \n",
      "\n",
      "   BLOCKED % (TEAM 2)  TURNOVER % DEFENSE (TEAM 2)  \\\n",
      "0                 8.9                         22.7   \n",
      "1                 8.9                         20.1   \n",
      "2                 6.3                         16.9   \n",
      "3                 8.7                         20.6   \n",
      "4                 9.1                         15.0   \n",
      "\n",
      "   WINS ABOVE BUBBLE (TEAM 2)  WIN % (TEAM 2)  \\\n",
      "0                        -5.2           60.00   \n",
      "1                         3.5           78.79   \n",
      "2                         0.7           79.31   \n",
      "3                         4.5           75.76   \n",
      "4                         1.8           67.74   \n",
      "\n",
      "   POINTS PER POSSESSION OFFENSE (TEAM 2)  \\\n",
      "0                                   0.993   \n",
      "1                                   1.038   \n",
      "2                                   1.050   \n",
      "3                                   1.060   \n",
      "4                                   1.083   \n",
      "\n",
      "   POINTS PER POSSESSION DEFENSE (TEAM 2)  SCORE (TEAM 2)  RESULT  \n",
      "0                                   0.978              72       0  \n",
      "1                                   0.928              53       0  \n",
      "2                                   0.958              70       1  \n",
      "3                                   0.945              75       1  \n",
      "4                                   1.007              78       1  \n",
      "\n",
      "[5 rows x 79 columns]\n"
     ]
    }
   ],
   "source": [
    "tournament_game_matchups['RESULT'] = ''\n",
    "\n",
    "for i, row in tournament_game_matchups.iterrows():\n",
    "    if row[\"SCORE (TEAM 1)\"] > row[\"SCORE (TEAM 2)\"]:\n",
    "        tournament_game_matchups.loc[i, 'RESULT'] = 0\n",
    "    else:\n",
    "        tournament_game_matchups.loc[i, 'RESULT'] = 1\n",
    "\n",
    "print(tournament_game_matchups.head())"
   ]
  },
  {
   "attachments": {},
   "cell_type": "markdown",
   "id": "6d8b3ac4",
   "metadata": {},
   "source": [
    "In our actual training data, we do not want the scores to be accounted for, as it will not be part of our predictive data. We will also drop those columns."
   ]
  },
  {
   "cell_type": "code",
   "execution_count": 86,
   "id": "67c47786",
   "metadata": {},
   "outputs": [
    {
     "name": "stdout",
     "output_type": "stream",
     "text": [
      "Index(['SEED (TEAM 1)', 'CURRENT ROUND (TEAM 1)',\n",
      "       'KENPOM ADJUSTED EFFICIENCY (TEAM 1)',\n",
      "       'KENPOM ADJUSTED OFFENSE (TEAM 1)', 'KENPOM ADJUSTED DEFENSE (TEAM 1)',\n",
      "       'KENPOM ADJUSTED TEMPO (TEAM 1)',\n",
      "       'BARTTORVIK ADJUSTED EFFICIENCY (TEAM 1)',\n",
      "       'BARTTORVIK ADJUSTED OFFENSE (TEAM 1)',\n",
      "       'BARTTORVIK ADJUSTED DEFENSE (TEAM 1)', 'BARTHAG (TEAM 1)',\n",
      "       'ELITE SOS (TEAM 1)', 'BARTTORVIK ADJUSTED TEMPO (TEAM 1)',\n",
      "       '2PT % (TEAM 1)', '3PT % (TEAM 1)', 'FREE THROW % (TEAM 1)',\n",
      "       'EFG % (TEAM 1)', 'FREE THROW RATE (TEAM 1)', '3PT RATE (TEAM 1)',\n",
      "       'ASSIST % (TEAM 1)', 'OFFENSIVE REBOUND % (TEAM 1)',\n",
      "       'DEFENSIVE REBOUND % (TEAM 1)', 'BLOCK % (TEAM 1)',\n",
      "       'TURNOVER % (TEAM 1)', '2PT % DEFENSE (TEAM 1)',\n",
      "       '3PT % DEFENSE (TEAM 1)', 'FREE THROW % DEFENSE (TEAM 1)',\n",
      "       'EFG % DEFENSE (TEAM 1)', 'FREE THROW RATE DEFENSE (TEAM 1)',\n",
      "       '3PT RATE DEFENSE (TEAM 1)', 'OP ASSIST % (TEAM 1)',\n",
      "       'OP O REB % (TEAM 1)', 'OP D REB % (TEAM 1)', 'BLOCKED % (TEAM 1)',\n",
      "       'TURNOVER % DEFENSE (TEAM 1)', 'WINS ABOVE BUBBLE (TEAM 1)',\n",
      "       'WIN % (TEAM 1)', 'POINTS PER POSSESSION OFFENSE (TEAM 1)',\n",
      "       'POINTS PER POSSESSION DEFENSE (TEAM 1)', 'SEED (TEAM 2)',\n",
      "       'CURRENT ROUND (TEAM 2)', 'KENPOM ADJUSTED EFFICIENCY (TEAM 2)',\n",
      "       'KENPOM ADJUSTED OFFENSE (TEAM 2)', 'KENPOM ADJUSTED DEFENSE (TEAM 2)',\n",
      "       'KENPOM ADJUSTED TEMPO (TEAM 2)',\n",
      "       'BARTTORVIK ADJUSTED EFFICIENCY (TEAM 2)',\n",
      "       'BARTTORVIK ADJUSTED OFFENSE (TEAM 2)',\n",
      "       'BARTTORVIK ADJUSTED DEFENSE (TEAM 2)', 'BARTHAG (TEAM 2)',\n",
      "       'ELITE SOS (TEAM 2)', 'BARTTORVIK ADJUSTED TEMPO (TEAM 2)',\n",
      "       '2PT % (TEAM 2)', '3PT % (TEAM 2)', 'FREE THROW % (TEAM 2)',\n",
      "       'EFG % (TEAM 2)', 'FREE THROW RATE (TEAM 2)', '3PT RATE (TEAM 2)',\n",
      "       'ASSIST % (TEAM 2)', 'OFFENSIVE REBOUND % (TEAM 2)',\n",
      "       'DEFENSIVE REBOUND % (TEAM 2)', 'BLOCK % (TEAM 2)',\n",
      "       'TURNOVER % (TEAM 2)', '2PT % DEFENSE (TEAM 2)',\n",
      "       '3PT % DEFENSE (TEAM 2)', 'FREE THROW % DEFENSE (TEAM 2)',\n",
      "       'EFG % DEFENSE (TEAM 2)', 'FREE THROW RATE DEFENSE (TEAM 2)',\n",
      "       '3PT RATE DEFENSE (TEAM 2)', 'OP ASSIST % (TEAM 2)',\n",
      "       'OP O REB % (TEAM 2)', 'OP D REB % (TEAM 2)', 'BLOCKED % (TEAM 2)',\n",
      "       'TURNOVER % DEFENSE (TEAM 2)', 'WINS ABOVE BUBBLE (TEAM 2)',\n",
      "       'WIN % (TEAM 2)', 'POINTS PER POSSESSION OFFENSE (TEAM 2)',\n",
      "       'POINTS PER POSSESSION DEFENSE (TEAM 2)', 'RESULT'],\n",
      "      dtype='object')\n"
     ]
    }
   ],
   "source": [
    "tournament_game_matchups = tournament_game_matchups.drop(columns=['SCORE (TEAM 1)', 'SCORE (TEAM 2)'])\n",
    "print(tournament_game_matchups.columns)"
   ]
  },
  {
   "attachments": {},
   "cell_type": "markdown",
   "id": "4bbafeda",
   "metadata": {},
   "source": [
    "### Data Exploration\n",
    "\n",
    "Now a lot of our simple data cleaning and feature engineering has been done, let's do some data exploration.\n",
    "Lets explore some trends in overall tournament winners\n",
    "\n",
    "First, we will plot winners (overall) adjusted offense/adjusted defense ratings. The brighter the red, the farther round was won. From the scatter plot, we couldn't see a major trend."
   ]
  },
  {
   "cell_type": "code",
   "execution_count": 87,
   "id": "748ab94b",
   "metadata": {},
   "outputs": [
    {
     "data": {
      "image/png": "[encoded data removed]",
      "text/plain": [
       "<Figure size 640x480 with 1 Axes>"
      ]
     },
     "metadata": {},
     "output_type": "display_data"
    }
   ],
   "source": [
    "team1_b_adj_off = tournament_game_matchups.loc[np.where(tournament_game_matchups[\"RESULT\"] == 0, True, False), \"BARTTORVIK ADJUSTED OFFENSE (TEAM 1)\"].tolist()\n",
    "team2_b_adj_off = tournament_game_matchups.loc[np.where(tournament_game_matchups[\"RESULT\"] == 1, True, False), \"BARTTORVIK ADJUSTED OFFENSE (TEAM 2)\"].tolist()\n",
    "winners_b_adj_off = team1_b_adj_off + team2_b_adj_off\n",
    "\n",
    "team1_b_adj_def = tournament_game_matchups.loc[np.where(tournament_game_matchups[\"RESULT\"] == 0, True, False), \"BARTTORVIK ADJUSTED DEFENSE (TEAM 1)\"].tolist()\n",
    "team2_b_adj_def = tournament_game_matchups.loc[np.where(tournament_game_matchups[\"RESULT\"] == 1, True, False), \"BARTTORVIK ADJUSTED DEFENSE (TEAM 2)\"].tolist()\n",
    "winners_b_adj_def = team1_b_adj_def + team2_b_adj_def\n",
    "\n",
    "team1_round = tournament_game_matchups.loc[np.where(tournament_game_matchups[\"RESULT\"] == 0, True, False), \"CURRENT ROUND (TEAM 1)\"].tolist()\n",
    "team2_round = tournament_game_matchups.loc[np.where(tournament_game_matchups[\"RESULT\"] == 1, True, False), \"CURRENT ROUND (TEAM 2)\"].tolist()\n",
    "winners_round = team1_round + team2_round\n",
    "\n",
    "\n",
    "# Set up plotting by colors\n",
    "colors = { 0:\"#af8b8b\", 64: \"#764a4a\", 32: \"#672727\", 16: \"#500000\", 8: \"#840000\", 4: \"#b40000\", 2: \"#ff0000\"}\n",
    "round_colors = [colors[round] for round in winners_round]\n",
    "\n",
    "# Now we plot\n",
    "plt.scatter(winners_b_adj_off, winners_b_adj_def, c=round_colors)\n",
    "plt.xlabel(\"Adj Off\")\n",
    "plt.ylabel(\"Adj Def\")\n",
    "plt.show()"
   ]
  },
  {
   "attachments": {},
   "cell_type": "markdown",
   "id": "43895a51",
   "metadata": {},
   "source": [
    "\n",
    "When we plot winners (overall) effeciency ratings, we find a much stronger trend."
   ]
  },
  {
   "cell_type": "code",
   "execution_count": 88,
   "id": "75025e3f",
   "metadata": {},
   "outputs": [
    {
     "data": {
      "image/png": "[encoded data removed]",
      "text/plain": [
       "<Figure size 640x480 with 1 Axes>"
      ]
     },
     "metadata": {},
     "output_type": "display_data"
    }
   ],
   "source": [
    "team1_adj_eff_k = tournament_game_matchups.loc[np.where(tournament_game_matchups[\"RESULT\"] == 0, True, False), 'KENPOM ADJUSTED EFFICIENCY (TEAM 1)'].tolist()\n",
    "team2_adj_eff_k = tournament_game_matchups.loc[np.where(tournament_game_matchups[\"RESULT\"] == 1, True, False), 'KENPOM ADJUSTED EFFICIENCY (TEAM 2)'].tolist()\n",
    "winners_adj_eff_k = team1_adj_eff_k + team2_adj_eff_k\n",
    "\n",
    "team1_adj_eff_b = tournament_game_matchups.loc[np.where(tournament_game_matchups[\"RESULT\"] == 0, True, False), 'BARTTORVIK ADJUSTED EFFICIENCY (TEAM 1)'].tolist()\n",
    "team2_adj_eff_b = tournament_game_matchups.loc[np.where(tournament_game_matchups[\"RESULT\"] == 1, True, False), 'BARTTORVIK ADJUSTED EFFICIENCY (TEAM 2)'].tolist()\n",
    "winners_adj_eff_b = team1_adj_eff_b + team2_adj_eff_b\n",
    "\n",
    "# Now we plot\n",
    "plt.scatter(winners_adj_eff_k, winners_adj_eff_b, c=round_colors)\n",
    "plt.xlabel(\"KENPOM ADJUSTED EFFICIENCY\")\n",
    "plt.ylabel(\"BARTTORVIK ADJUSTED EFFICIENCY\")\n",
    "plt.show()"
   ]
  },
  {
   "attachments": {},
   "cell_type": "markdown",
   "id": "f4f40725",
   "metadata": {},
   "source": [
    "\n",
    "Suprisingly, when we plot turnover and turnover defense we didn't see a strong correlation. (We were prompted to explore this because of a TikTok seen during the actually play through of the tournament this year, where one insisted a correlation between teams still in the tournament and their turnover statistics)"
   ]
  },
  {
   "cell_type": "code",
   "execution_count": 89,
   "id": "d3c9d34c",
   "metadata": {},
   "outputs": [
    {
     "data": {
      "image/png": "[encoded data removed]",
      "text/plain": [
       "<Figure size 640x480 with 1 Axes>"
      ]
     },
     "metadata": {},
     "output_type": "display_data"
    }
   ],
   "source": [
    "team1_turnover_percentage = tournament_game_matchups.loc[np.where(tournament_game_matchups[\"RESULT\"] == 0, True, False), 'TURNOVER % (TEAM 1)'].tolist()\n",
    "team2_turnover_percentage = tournament_game_matchups.loc[np.where(tournament_game_matchups[\"RESULT\"] == 1, True, False), 'TURNOVER % (TEAM 2)'].tolist()\n",
    "winners_turnover_percentage = team1_turnover_percentage + team2_turnover_percentage\n",
    "\n",
    "team1_turnover_defensive_percentage = tournament_game_matchups.loc[np.where(tournament_game_matchups[\"RESULT\"] == 0, True, False), 'TURNOVER % DEFENSE (TEAM 1)'].tolist()\n",
    "team2_turnover_defensive_percentage = tournament_game_matchups.loc[np.where(tournament_game_matchups[\"RESULT\"] == 1, True, False), 'TURNOVER % DEFENSE (TEAM 2)'].tolist()\n",
    "winners_turnover_defensive_percentage = team1_turnover_defensive_percentage + team2_turnover_defensive_percentage\n",
    "\n",
    "# Now we plot\n",
    "plt.scatter(winners_turnover_percentage, winners_turnover_defensive_percentage, c=round_colors)\n",
    "plt.xlabel(\"TURNOVER %\")\n",
    "plt.ylabel(\"TURNOVER % DEFENSE\")\n",
    "plt.show()"
   ]
  },
  {
   "attachments": {},
   "cell_type": "markdown",
   "id": "e9547ac5",
   "metadata": {},
   "source": [
    "\n",
    "We see when overall tournament winners were ranked in seeding using a bar graph that number one seeds were very frequently 1 seeds."
   ]
  },
  {
   "cell_type": "code",
   "execution_count": 90,
   "id": "7d5a85a7",
   "metadata": {},
   "outputs": [
    {
     "name": "stdout",
     "output_type": "stream",
     "text": [
      "[1, 1, 1, 2, 1, 7, 1, 1, 1, 1, 1, 3, 1, 1]\n"
     ]
    },
    {
     "data": {
      "image/png": "[encoded data removed]",
      "text/plain": [
       "<Figure size 640x480 with 1 Axes>"
      ]
     },
     "metadata": {},
     "output_type": "display_data"
    }
   ],
   "source": [
    "final_games = tournament_game_matchups[tournament_game_matchups[\"CURRENT ROUND (TEAM 1)\"] == 2]\n",
    "\n",
    "team1_seed = final_games.loc[np.where(final_games[\"RESULT\"] == 0, True, False), 'SEED (TEAM 1)'].tolist()\n",
    "team2_seed = final_games.loc[np.where(final_games[\"RESULT\"] == 1, True, False), 'SEED (TEAM 2)'].tolist()\n",
    "finals_winners_seeds = team1_seed + team2_seed\n",
    "\n",
    "print(finals_winners_seeds)\n",
    "\n",
    "# Use the \"count\" method of lists to count the frequency of each integer\n",
    "counts = [finals_winners_seeds.count(i) for i in range(min(finals_winners_seeds), max(finals_winners_seeds)+1)]\n",
    "\n",
    "# Create a bar graph with the frequency counts\n",
    "plt.bar(range(min(finals_winners_seeds), max(finals_winners_seeds)+1), counts)\n",
    "plt.xlabel('Finals Winner Seed')\n",
    "plt.ylabel('Frequency')\n",
    "plt.title('March Madness Winners by Seeds')\n",
    "plt.show()"
   ]
  },
  {
   "attachments": {},
   "cell_type": "markdown",
   "id": "389035fb",
   "metadata": {},
   "source": [
    "### Testing Models\n",
    "\n",
    "We will now set up our x and y data in order to feed them into our evaluations of various models."
   ]
  },
  {
   "cell_type": "code",
   "execution_count": 67,
   "id": "a2a3c568",
   "metadata": {},
   "outputs": [],
   "source": [
    "from sklearn.model_selection import train_test_split, cross_val_score\n",
    "from sklearn.linear_model import LogisticRegression\n",
    "from sklearn.metrics import accuracy_score\n",
    "from sklearn.preprocessing import StandardScaler\n",
    "\n",
    "y_data = tournament_game_matchups['RESULT'].astype(int)\n",
    "x_data = tournament_game_matchups.drop(['RESULT'],axis=1)"
   ]
  },
  {
   "attachments": {},
   "cell_type": "markdown",
   "id": "d0fb583d",
   "metadata": {},
   "source": [
    "### Decision Tree Classifier\n",
    "\n",
    "We begin with a decision tree classifier, where we hyper-tune our model with pca n-components, class_weight, max_depth, min_samples_leaf and max_features. With our pipeline featuring scaling, pca, and finally our decision tree."
   ]
  },
  {
   "cell_type": "code",
   "execution_count": 68,
   "id": "9e1647c8",
   "metadata": {},
   "outputs": [
    {
     "name": "stdout",
     "output_type": "stream",
     "text": [
      "{'clf__class_weight': {0: 0.5710526315789474, 1: 0.42894736842105263}, 'clf__max_depth': 5, 'clf__max_features': 15, 'clf__min_samples_leaf': 15, 'pca__n_components': 5}\n",
      "Accuracy: 62.30366492146597\n"
     ]
    }
   ],
   "source": [
    "# Confusion matrix stuff\n",
    "from sklearn.metrics import confusion_matrix\n",
    "from sklearn.pipeline import make_pipeline\n",
    "from sklearn.metrics import  precision_recall_fscore_support\n",
    "from sklearn.decomposition import PCA\n",
    "from sklearn.pipeline import Pipeline\n",
    "from sklearn.model_selection import GridSearchCV\n",
    "from sklearn.tree import DecisionTreeClassifier\n",
    "\n",
    "# Create a decision tree classifier with the cost matrix\n",
    "clf = DecisionTreeClassifier()\n",
    "weights = np.linspace(0.05, 0.95, 20)\n",
    "scaler = StandardScaler()\n",
    "pca = PCA()\n",
    "pipe = Pipeline([\n",
    "    ('scaler', scaler),\n",
    "    ('pca', pca),\n",
    "    ('clf', clf)\n",
    "])\n",
    "\n",
    "param_grid = {\n",
    "    'pca__n_components': list(range(3,6)),\n",
    "    'clf__class_weight' : [{0: x, 1: 1.0-x} for x in weights],\n",
    "    \"clf__max_depth\": [5,10,15,20] , \n",
    "    \"clf__min_samples_leaf\": [5,10,15,20],\n",
    "    \"clf__max_features\" : [5,10,15]\n",
    "}\n",
    "\n",
    "grid_search = GridSearchCV(pipe, param_grid, cv=5)\n",
    "grid_search.fit(x_data, y_data)\n",
    "print(grid_search.best_params_)\n",
    "\n",
    "nested_score = cross_val_score(grid_search, x_data, y_data, cv=5)\n",
    "print(\"Accuracy:\", nested_score.mean()*100)"
   ]
  },
  {
   "attachments": {},
   "cell_type": "markdown",
   "id": "9da14c04",
   "metadata": {},
   "source": [
    "We see that our class weights are relatively equal, with the best max depth being 5, max features being 10, min samples to form a leaf being 15, and the best n_components to be 5. The cross validation score for our decision tree model is 62.3%"
   ]
  },
  {
   "attachments": {},
   "cell_type": "markdown",
   "id": "1729d8f5",
   "metadata": {},
   "source": [
    "### Random Forest\n",
    "\n",
    "We now will run Random Forest, where we will hyper-tune pca n_estimators, max_depth, min_samples_split, min_samples_leaf, max_features.  With our pipeline featuring scaling, pca, and finally our random forests."
   ]
  },
  {
   "cell_type": "code",
   "execution_count": 33,
   "id": "91de8e97",
   "metadata": {},
   "outputs": [
    {
     "name": "stdout",
     "output_type": "stream",
     "text": [
      "Best Hyperparameters:  {'clf__max_depth': 5, 'clf__max_features': 'log2', 'clf__min_samples_leaf': 2, 'clf__min_samples_split': 5, 'clf__n_estimators': 100}\n",
      "Cross-validation accuracy: 64.29%\n"
     ]
    }
   ],
   "source": [
    "from sklearn.ensemble import RandomForestClassifier\n",
    "# Try a random forest\n",
    "param_grid = {\n",
    "    'clf__n_estimators': [100, 200, 300],\n",
    "    'clf__max_depth': [5, 10, 15],\n",
    "    'clf__min_samples_split': [2, 5, 10],\n",
    "    'clf__min_samples_leaf': [1, 2, 4],\n",
    "    'clf__max_features': ['sqrt', 'log2']\n",
    "}\n",
    "\n",
    "rfc = RandomForestClassifier()\n",
    "scaler = StandardScaler()\n",
    "pca = PCA()\n",
    "pipe = Pipeline([\n",
    "    ('scaler', scaler),\n",
    "    ('clf', rfc)\n",
    "])\n",
    "\n",
    "grid_search = GridSearchCV(pipe, param_grid, cv=5, n_jobs=-1)\n",
    "grid_search.fit(x_data, y_data)\n",
    "print(\"Best Hyperparameters: \", grid_search.best_params_)\n",
    "\n",
    "cv_scores = cross_val_score(grid_search, x_data, y_data, cv=5)\n",
    "\n",
    "print(\"Cross-validation accuracy: {:.2f}%\".format(cv_scores.mean() * 100))"
   ]
  },
  {
   "attachments": {},
   "cell_type": "markdown",
   "id": "a78808ff",
   "metadata": {},
   "source": [
    "The best parameters from our random forest hypertuning were a max_depth of 5, max_features with log2, min_samples to form a leaf of 4, min_samples_split of 2 and n_estimators of 100. Our cross validation accuracy was 64.29%."
   ]
  },
  {
   "attachments": {},
   "cell_type": "markdown",
   "id": "57081278",
   "metadata": {},
   "source": [
    "### Logistic Regression\n",
    "\n",
    "Next we try Logistic Regression, a common variation on linear regession, where we hypertune our parameters with penalty, C value, and solver."
   ]
  },
  {
   "cell_type": "code",
   "execution_count": 34,
   "id": "4373d5a1",
   "metadata": {},
   "outputs": [
    {
     "name": "stdout",
     "output_type": "stream",
     "text": [
      "Best Hyperparameters:  {'clf__C': 0.001, 'clf__penalty': 'l2', 'clf__solver': 'liblinear'}\n",
      "Cross-validation accuracy: 68.27%\n"
     ]
    }
   ],
   "source": [
    "# Logistic Regression\n",
    "clf = LogisticRegression(max_iter=1000)\n",
    "scaler = StandardScaler()\n",
    "pca = PCA()\n",
    "pipe = Pipeline([\n",
    "    ('scaler', scaler),\n",
    "    ('pca', pca),\n",
    "    ('clf', clf)\n",
    "])\n",
    "\n",
    "param_grid = [\n",
    "    {   \n",
    "        'clf__penalty': ['l1', 'l2'],\n",
    "        'clf__C': [0.001, 0.01, 0.1, 1, 10, 100],\n",
    "        'clf__solver': ['liblinear']\n",
    "    },\n",
    "    {\n",
    "        'clf__penalty': ['l2'],\n",
    "        'clf__C': [0.001, 0.01, 0.1, 1, 10, 100],\n",
    "        'clf__solver': ['lbfgs']\n",
    "    }\n",
    "]\n",
    "\n",
    "grid_search = GridSearchCV(pipe, param_grid, cv=5)\n",
    "grid_search.fit(x_data, y_data)\n",
    "print(\"Best Hyperparameters: \", grid_search.best_params_)\n",
    "\n",
    "cv_scores = cross_val_score(grid_search, x_data, y_data, cv=5)\n",
    "print(\"Cross-validation accuracy: {:.2f}%\".format(cv_scores.mean() * 100))"
   ]
  },
  {
   "attachments": {},
   "cell_type": "markdown",
   "id": "1be1a4ea",
   "metadata": {},
   "source": [
    "As a result of hypertuning our logistic regression model, we find the best parameters listed above. It performed with an average accuracy of 68.27%."
   ]
  },
  {
   "attachments": {},
   "cell_type": "markdown",
   "id": "d0493d1e",
   "metadata": {},
   "source": [
    "### SVM\n",
    "\n",
    "Up next, we try using an SVM. We decided to hyper-tune our SVM with C value, kernel, degree, gamma, class_weight, max_iter and tol values. We see that this models performs with a accuracy of 68.27%."
   ]
  },
  {
   "cell_type": "code",
   "execution_count": 38,
   "id": "34ba594c",
   "metadata": {},
   "outputs": [
    {
     "name": "stdout",
     "output_type": "stream",
     "text": [
      "Best Hyperparameters:  {'clf__C': 0.1, 'clf__class_weight': 'balanced', 'clf__degree': 2, 'clf__gamma': 'scale', 'clf__kernel': 'rbf', 'clf__max_iter': 1000, 'clf__tol': 0.001}\n"
     ]
    }
   ],
   "source": [
    "#SVM Code\n",
    "from sklearn.svm import SVC\n",
    "import warnings\n",
    "from sklearn.exceptions import ConvergenceWarning\n",
    "warnings.filterwarnings(\"ignore\",category=ConvergenceWarning)\n",
    "\n",
    "\n",
    "clf = SVC()\n",
    "scaler = StandardScaler()\n",
    "pca = PCA()\n",
    "pipe = Pipeline([\n",
    "    ('scaler', scaler),\n",
    "    ('pca', pca),\n",
    "    ('clf', clf)\n",
    "])\n",
    "\n",
    "param_grid = {\n",
    "    'clf__C': [0.1, 1, 10],       \n",
    "    'clf__kernel': ['linear', 'rbf', 'poly'], \n",
    "    'clf__degree': [2, 3, 4], \n",
    "    'clf__gamma': [0.01, 0.1, 1, 'scale'], \n",
    "    'clf__class_weight': [None, 'balanced'], \n",
    "    'clf__max_iter': [1000, 5000, 10000],\n",
    "    'clf__tol': [0.001, 0.01, 0.1]\n",
    "}\n",
    "\n",
    "grid_search = GridSearchCV(pipe, param_grid, cv=5)\n",
    "grid_search.fit(x_data, y_data)\n",
    "print(\"Best Hyperparameters: \", grid_search.best_params_)"
   ]
  },
  {
   "cell_type": "code",
   "execution_count": null,
   "id": "2f41c5bc",
   "metadata": {},
   "outputs": [
    {
     "name": "stdout",
     "output_type": "stream",
     "text": [
      "Cross-validation accuracy: 60.94%\n"
     ]
    }
   ],
   "source": [
    "cv_scores = cross_val_score(grid_search, x_data, y_data, cv=5)\n",
    "print(\"Cross-validation accuracy: {:.2f}%\".format(cv_scores.mean() * 100))"
   ]
  },
  {
   "attachments": {},
   "cell_type": "markdown",
   "id": "ea76286f",
   "metadata": {},
   "source": [
    "As a result of hyper-tuning our SVM, we find that the best hyperparameters (although a lot are listed above). This model had a cross validation score of 60.94%"
   ]
  },
  {
   "attachments": {},
   "cell_type": "markdown",
   "id": "e359a1c9",
   "metadata": {},
   "source": [
    "### Neural Networks\n",
    "\n",
    "Next we try implementing a Neural Network, hypertuning it with pca n_components and NN hidden layer sizes, alpha value, activation type and max_iter."
   ]
  },
  {
   "cell_type": "code",
   "execution_count": null,
   "id": "3b9b0871",
   "metadata": {},
   "outputs": [
    {
     "name": "stdout",
     "output_type": "stream",
     "text": [
      "Best Hyperparameters:  {'clf__activation': 'tanh', 'clf__alpha': 0.01, 'clf__hidden_layer_sizes': (10,), 'clf__max_iter': 1000, 'pca__n_components': 2}\n",
      "Cross-validation accuracy: 67.54%\n"
     ]
    }
   ],
   "source": [
    "# Neural Networks\n",
    "from sklearn.neural_network import MLPClassifier\n",
    "import warnings\n",
    "from sklearn.exceptions import ConvergenceWarning\n",
    "warnings.simplefilter(\"ignore\", category=ConvergenceWarning)\n",
    "clf = MLPClassifier()\n",
    "scaler = StandardScaler()\n",
    "pca = PCA()\n",
    "pipe = Pipeline([\n",
    "    ('scaler', scaler),\n",
    "    ('pca', pca),\n",
    "    ('clf', clf)\n",
    "])\n",
    "\n",
    "param_grid = {\n",
    "    'pca__n_components': [2, 3],\n",
    "    'clf__hidden_layer_sizes': [(10,), (20,), (10, 10)],\n",
    "    'clf__alpha': [0.0001, 0.001, 0.01],\n",
    "    'clf__activation': ['logistic', 'tanh', 'relu'],\n",
    "    'clf__max_iter': [200, 500, 1000]\n",
    "}\n",
    "\n",
    "\n",
    "grid_search = GridSearchCV(pipe, param_grid, cv=5)\n",
    "grid_search.fit(x_data, y_data)\n",
    "print(\"Best Hyperparameters: \", grid_search.best_params_)\n",
    "\n",
    "cv_scores = cross_val_score(grid_search, x_data, y_data, cv=5)\n",
    "print(\"Cross-validation accuracy: {:.2f}%\".format(cv_scores.mean() * 100))"
   ]
  },
  {
   "attachments": {},
   "cell_type": "markdown",
   "id": "8fb25fd7",
   "metadata": {},
   "source": [
    "The result of our hypertuning is listed above, with the accuracy of our model being 67.54%."
   ]
  },
  {
   "attachments": {},
   "cell_type": "markdown",
   "id": "973fc9a1",
   "metadata": {},
   "source": [
    "### KNN\n",
    "\n",
    "Lastly, we try KNN. We don't really see a KNN opportunity at face value, but we decided to give it a shot either way. Here we hypertune it somewhat simple, with pca n_components, n_neighbors, weights, and p value."
   ]
  },
  {
   "cell_type": "code",
   "execution_count": null,
   "id": "487b48c3",
   "metadata": {},
   "outputs": [
    {
     "name": "stdout",
     "output_type": "stream",
     "text": [
      "Best Hyperparameters:  {'knn__n_neighbors': 7, 'knn__p': 2, 'knn__weights': 'distance', 'pca__n_components': 13}\n",
      "Cross-validation accuracy: 62.93%\n"
     ]
    }
   ],
   "source": [
    "from sklearn.neighbors import KNeighborsClassifier\n",
    "\n",
    "knn = KNeighborsClassifier()\n",
    "scaler = StandardScaler()\n",
    "pca = PCA()\n",
    "pipe = Pipeline([\n",
    "    ('scaler', scaler),\n",
    "    ('pca', pca),\n",
    "    ('knn', knn)\n",
    "])\n",
    "\n",
    "param_grid = {\n",
    "    'pca__n_components': range(3, 40),\n",
    "    'knn__n_neighbors': [3, 5, 7, 9],\n",
    "    'knn__weights': ['uniform', 'distance'],\n",
    "    'knn__p': [1, 2]\n",
    "}\n",
    "\n",
    "grid_search = GridSearchCV(pipe, param_grid, cv=5)\n",
    "grid_search.fit(x_data, y_data)\n",
    "print(\"Best Hyperparameters: \", grid_search.best_params_)\n",
    "\n",
    "cv_scores = cross_val_score(grid_search, x_data, y_data, cv=5)\n",
    "print(\"Cross-validation accuracy: {:.2f}%\".format(cv_scores.mean() * 100))"
   ]
  },
  {
   "attachments": {},
   "cell_type": "markdown",
   "id": "2b63c698",
   "metadata": {},
   "source": [
    "The result of our hypertuning is listed about with the accuracy being below average, compared to the previous with an accuracy of 62.93%."
   ]
  },
  {
   "attachments": {},
   "cell_type": "markdown",
   "id": "532a1105",
   "metadata": {},
   "source": [
    "#### Selecting the best performing model\n",
    "\n",
    "Our best performing model was Logistic Regression, so we will use that to make our 2023 predictions."
   ]
  },
  {
   "attachments": {},
   "cell_type": "markdown",
   "id": "9f147d59",
   "metadata": {},
   "source": [
    "### Testing our model with the 2023 March Madness Tournament\n",
    "\n",
    "Now we will begin forming our predictive bracket using our model to determine outcomes. \n",
    "\n",
    "The data provided for the 2023 tournament did not order the games as was in the previous tournaments game data was, so we had to take the 2023 Tournament Data csv and fix the ordering correctly to portray the first round matchups, this resulted in the 2023MarchMadnessTournament csv file.\n",
    "\n",
    "We also have to perform a lot of the same data cleaning / feature engineering that we did previously to the other csv file. First, we will start by stitching the games together."
   ]
  },
  {
   "cell_type": "code",
   "execution_count": null,
   "id": "2860bed0",
   "metadata": {},
   "outputs": [
    {
     "name": "stdout",
     "output_type": "stream",
     "text": [
      "   YEAR  SEED                    TEAM  TEAM ROUND  CURRENT ROUND  \\\n",
      "0  2023     1                 Alabama           0              0   \n",
      "1  2023    16  Texas A&M Corpus Chris           0              0   \n",
      "2  2023     8                Maryland           0              0   \n",
      "3  2023     9           West Virginia           0              0   \n",
      "4  2023     5           San Diego St.           0              0   \n",
      "\n",
      "   KENPOM ADJUSTED EFFICIENCY  KENPOM ADJUSTED OFFENSE  \\\n",
      "0                     26.9363                  115.832   \n",
      "1                     -0.2012                  107.470   \n",
      "2                     18.3612                  114.182   \n",
      "3                     19.1450                  117.222   \n",
      "4                     20.2804                  112.035   \n",
      "\n",
      "   KENPOM ADJUSTED DEFENSE  KENPOM ADJUSTED TEMPO  \\\n",
      "0                  88.8960                72.7700   \n",
      "1                 107.6710                69.2125   \n",
      "2                  95.8207                64.5777   \n",
      "3                  98.0770                68.8134   \n",
      "4                  91.7542                65.9638   \n",
      "\n",
      "   BARTTORVIK ADJUSTED EFFICIENCY  ...  OP ASSIST %  OP O REB %  OP D REB %  \\\n",
      "0                          27.588  ...         41.8        27.6        66.2   \n",
      "1                          -1.386  ...         55.8        27.9        67.5   \n",
      "2                          16.705  ...         48.1        27.2        69.8   \n",
      "3                          19.839  ...         50.3        29.3        66.3   \n",
      "4                          22.364  ...         47.2        25.8        68.3   \n",
      "\n",
      "   BLOCKED %  TURNOVER % DEFENSE  WINS ABOVE BUBBLE      WIN %  \\\n",
      "0       11.4                16.0               10.6  85.294118   \n",
      "1        8.6                20.9               -5.9  65.517241   \n",
      "2        9.9                18.4                0.8  63.636364   \n",
      "3        6.3                20.9                1.8  57.575758   \n",
      "4        7.9                19.6                6.5  81.250000   \n",
      "\n",
      "   POINTS PER POSSESSION OFFENSE  POINTS PER POSSESSION DEFENSE  \\\n",
      "0                          1.106                          0.922   \n",
      "1                          1.098                          1.023   \n",
      "2                          1.086                          0.975   \n",
      "3                          1.088                          1.013   \n",
      "4                          1.064                          0.952   \n",
      "\n",
      "                   TEAM.1  \n",
      "0                 Alabama  \n",
      "1  Texas A&M Corpus Chris  \n",
      "2                Maryland  \n",
      "3           West Virginia  \n",
      "4           San Diego St.  \n",
      "\n",
      "[5 rows x 42 columns]\n",
      "    YEAR  SEED           TEAM  TEAM ROUND  CURRENT ROUND  \\\n",
      "0   2023     1        Alabama           0              0   \n",
      "1   2023     8       Maryland           0              0   \n",
      "2   2023     5  San Diego St.           0              0   \n",
      "3   2023     4       Virginia           0              0   \n",
      "4   2023     6      Creighton           0              0   \n",
      "5   2023     3         Baylor           0              0   \n",
      "6   2023     7       Missouri           0              0   \n",
      "7   2023     2        Arizona           0              0   \n",
      "8   2023     1         Purdue           0              0   \n",
      "9   2023     8        Memphis           0              0   \n",
      "10  2023     5           Duke           0              0   \n",
      "11  2023     4      Tennessee           0              0   \n",
      "12  2023     6       Kentucky           0              0   \n",
      "13  2023     3     Kansas St.           0              0   \n",
      "14  2023     7   Michigan St.           0              0   \n",
      "15  2023     2      Marquette           0              0   \n",
      "16  2023     1        Houston           0              0   \n",
      "17  2023     8           Iowa           0              0   \n",
      "18  2023     5       Miami FL           0              0   \n",
      "19  2023     4        Indiana           0              0   \n",
      "20  2023     6       Iowa St.           0              0   \n",
      "21  2023     3         Xavier           0              0   \n",
      "22  2023     7      Texas A&M           0              0   \n",
      "23  2023     2          Texas           0              0   \n",
      "24  2023     1         Kansas           0              0   \n",
      "25  2023     8       Arkansas           0              0   \n",
      "26  2023     5   Saint Mary's           0              0   \n",
      "27  2023     4    Connecticut           0              0   \n",
      "28  2023     6            TCU           0              0   \n",
      "29  2023     3        Gonzaga           0              0   \n",
      "30  2023     7   Northwestern           0              0   \n",
      "31  2023     2           UCLA           0              0   \n",
      "\n",
      "    KENPOM ADJUSTED EFFICIENCY  KENPOM ADJUSTED OFFENSE  \\\n",
      "0                      26.9363                  115.832   \n",
      "1                      18.3612                  114.182   \n",
      "2                      20.2804                  112.035   \n",
      "3                      16.4435                  111.280   \n",
      "4                      20.6509                  114.711   \n",
      "5                      19.9863                  121.947   \n",
      "6                      13.9024                  119.372   \n",
      "7                      22.8757                  120.078   \n",
      "8                      24.7732                  119.951   \n",
      "9                      17.7429                  114.202   \n",
      "10                     18.4977                  113.326   \n",
      "11                     24.6923                  112.764   \n",
      "12                     17.7996                  117.510   \n",
      "13                     18.3145                  112.608   \n",
      "14                     16.6987                  113.468   \n",
      "15                     21.8280                  119.388   \n",
      "16                     29.8743                  118.854   \n",
      "17                     15.5976                  120.561   \n",
      "18                     14.9150                  118.327   \n",
      "19                     17.3507                  114.701   \n",
      "20                     18.3337                  109.976   \n",
      "21                     19.6900                  119.389   \n",
      "22                     18.8303                  114.782   \n",
      "23                     24.5713                  116.675   \n",
      "24                     23.1345                  114.703   \n",
      "25                     18.6389                  112.703   \n",
      "26                     21.9447                  113.592   \n",
      "27                     25.3456                  119.520   \n",
      "28                     18.0638                  112.458   \n",
      "29                     24.3204                  124.087   \n",
      "30                     14.8156                  108.567   \n",
      "31                     27.6504                  114.976   \n",
      "\n",
      "    KENPOM ADJUSTED DEFENSE  KENPOM ADJUSTED TEMPO  \\\n",
      "0                   88.8960                72.7700   \n",
      "1                   95.8207                64.5777   \n",
      "2                   91.7542                65.9638   \n",
      "3                   94.8364                61.5204   \n",
      "4                   94.0602                67.9357   \n",
      "5                  101.9610                66.5058   \n",
      "6                  105.4700                69.0569   \n",
      "7                   97.2023                72.2672   \n",
      "8                   95.1774                64.2174   \n",
      "9                   96.4588                71.8377   \n",
      "10                  94.8285                65.2166   \n",
      "11                  88.0712                65.4804   \n",
      "12                  99.7099                65.9602   \n",
      "13                  94.2939                70.1663   \n",
      "14                  96.7691                64.8900   \n",
      "15                  97.5602                68.3156   \n",
      "16                  88.9798                63.3827   \n",
      "17                 104.9630                69.4931   \n",
      "18                 103.4120                68.8077   \n",
      "19                  97.3498                68.0930   \n",
      "20                  91.6424                64.2693   \n",
      "21                  99.6988                70.3120   \n",
      "22                  95.9512                66.1883   \n",
      "23                  92.1042                69.0756   \n",
      "24                  91.5684                69.2256   \n",
      "25                  94.0642                69.6271   \n",
      "26                  91.6469                61.6979   \n",
      "27                  94.1749                66.6423   \n",
      "28                  94.3943                69.7668   \n",
      "29                  99.7671                70.0237   \n",
      "30                  93.7510                64.8836   \n",
      "31                  87.3259                66.2291   \n",
      "\n",
      "    BARTTORVIK ADJUSTED EFFICIENCY  ...  OP ASSIST %  OP O REB %  OP D REB %  \\\n",
      "0                           27.588  ...         55.8        27.9        67.5   \n",
      "1                           16.705  ...         50.3        29.3        66.3   \n",
      "2                           22.364  ...         44.8        25.5        64.9   \n",
      "3                           15.911  ...         43.2        27.1        70.4   \n",
      "4                           20.619  ...         44.9        26.6        69.3   \n",
      "5                           22.328  ...         48.5        26.1        73.4   \n",
      "6                           13.877  ...         46.9        24.8        72.6   \n",
      "7                           23.914  ...         43.3        22.8        71.6   \n",
      "8                           25.247  ...         56.4        28.9        68.6   \n",
      "9                           20.242  ...         33.4        24.5        69.6   \n",
      "10                          18.507  ...         46.2        27.4        75.5   \n",
      "11                          24.166  ...         42.5        26.4        66.2   \n",
      "12                          17.539  ...         48.2        26.7        64.8   \n",
      "13                          17.872  ...         39.1        25.5        74.3   \n",
      "14                          16.504  ...         56.3        33.0        71.0   \n",
      "15                          21.894  ...         44.8        22.5        80.7   \n",
      "16                          28.290  ...         60.3        32.8        68.7   \n",
      "17                          15.968  ...         48.7        32.0        66.7   \n",
      "18                          15.664  ...         44.0        22.4        75.7   \n",
      "19                          16.194  ...         50.8        30.2        69.1   \n",
      "20                          18.188  ...         52.9        28.2        69.6   \n",
      "21                          19.483  ...         47.0        25.8        72.5   \n",
      "22                          20.015  ...         56.1        25.1        81.2   \n",
      "23                          23.483  ...         53.7        24.1        75.1   \n",
      "24                          21.359  ...         46.9        31.6        66.2   \n",
      "25                          19.088  ...         44.7        26.8        67.7   \n",
      "26                          22.574  ...         51.0        29.8        71.0   \n",
      "27                          25.685  ...         50.6        30.5        68.0   \n",
      "28                          17.632  ...         53.9        31.8        70.4   \n",
      "29                          25.526  ...         43.1        30.3        69.5   \n",
      "30                          15.083  ...         46.0        23.8        73.6   \n",
      "31                          25.071  ...         45.2        28.7        74.2   \n",
      "\n",
      "    BLOCKED %  TURNOVER % DEFENSE  WINS ABOVE BUBBLE      WIN %  \\\n",
      "0         8.6                20.9               -5.9  65.517241   \n",
      "1         6.3                20.9                1.8  57.575758   \n",
      "2        10.9                19.3                1.8  90.909091   \n",
      "3         8.2                18.4               -1.9  77.419355   \n",
      "4         6.4                19.1                0.9  69.696970   \n",
      "5         6.1                18.7               -1.1  78.125000   \n",
      "6         7.5                15.8                3.9  75.757576   \n",
      "7         9.8                14.5               -3.1  70.370370   \n",
      "8        10.0                21.4              -12.2  53.125000   \n",
      "9         7.2                18.3                4.3  90.625000   \n",
      "10        7.8                17.6                2.0  86.666667   \n",
      "11        8.2                18.1               -0.3  76.666667   \n",
      "12        9.6                16.9                0.9  65.625000   \n",
      "13        5.5                20.1               -2.6  71.875000   \n",
      "14        7.8                18.1                2.0  68.750000   \n",
      "15        8.5                16.8               -3.7  68.750000   \n",
      "16        7.3                23.2               -6.5  62.500000   \n",
      "17        8.6                19.3                1.5  62.500000   \n",
      "18        6.5                17.7               -0.2  78.787879   \n",
      "19        7.4                22.6                1.1  81.250000   \n",
      "20       10.1                16.7               -0.5  66.666667   \n",
      "21        8.4                19.6               -1.2  74.193548   \n",
      "22        9.6                13.1                1.3  62.857143   \n",
      "23        8.3                17.6               -3.5  75.757576   \n",
      "24        8.7                20.7               -7.2  61.290323   \n",
      "25        8.1                18.6                0.6  62.500000   \n",
      "26        9.7                24.1                1.1  79.411765   \n",
      "27        6.5                20.9               -1.5  79.411765   \n",
      "28        8.2                20.6                1.3  64.705882   \n",
      "29        8.1                15.0               -3.5  65.625000   \n",
      "30        9.5                17.7                2.9  71.875000   \n",
      "31       11.2                17.9               -1.7  78.125000   \n",
      "\n",
      "    POINTS PER POSSESSION OFFENSE  POINTS PER POSSESSION DEFENSE  \\\n",
      "0                           1.098                          1.023   \n",
      "1                           1.088                          1.013   \n",
      "2                           1.126                          0.944   \n",
      "3                           1.155                          1.025   \n",
      "4                           1.115                          1.009   \n",
      "5                           1.096                          1.004   \n",
      "6                           1.121                          1.006   \n",
      "7                           1.081                          0.994   \n",
      "8                           1.088                          1.084   \n",
      "9                           1.129                          0.943   \n",
      "10                          1.165                          0.988   \n",
      "11                          1.096                          1.023   \n",
      "12                          1.120                          1.023   \n",
      "13                          1.051                          0.991   \n",
      "14                          1.059                          0.979   \n",
      "15                          1.090                          1.007   \n",
      "16                          1.044                          1.005   \n",
      "17                          1.054                          0.972   \n",
      "18                          1.084                          0.945   \n",
      "19                          1.088                          0.953   \n",
      "20                          1.117                          1.034   \n",
      "21                          1.054                          1.012   \n",
      "22                          1.101                          1.042   \n",
      "23                          1.150                          1.019   \n",
      "24                          1.033                          1.018   \n",
      "25                          1.065                          0.955   \n",
      "26                          1.044                          0.919   \n",
      "27                          1.105                          0.941   \n",
      "28                          1.006                          0.968   \n",
      "29                          1.088                          1.033   \n",
      "30                          1.058                          0.954   \n",
      "31                          1.047                          0.994   \n",
      "\n",
      "                    TEAM.1  \n",
      "0   Texas A&M Corpus Chris  \n",
      "1            West Virginia  \n",
      "2    College of Charleston  \n",
      "3                   Furman  \n",
      "4       North Carolina St.  \n",
      "5         UC Santa Barbara  \n",
      "6                 Utah St.  \n",
      "7                Princeton  \n",
      "8      Fairleigh Dickinson  \n",
      "9         Florida Atlantic  \n",
      "10            Oral Roberts  \n",
      "11     Louisiana Lafayette  \n",
      "12              Providence  \n",
      "13             Montana St.  \n",
      "14                     USC  \n",
      "15                 Vermont  \n",
      "16       Northern Kentucky  \n",
      "17                  Auburn  \n",
      "18                   Drake  \n",
      "19                Kent St.  \n",
      "20              Pittsburgh  \n",
      "21            Kennesaw St.  \n",
      "22                Penn St.  \n",
      "23                 Colgate  \n",
      "24                  Howard  \n",
      "25                Illinois  \n",
      "26                     VCU  \n",
      "27                    Iona  \n",
      "28             Arizona St.  \n",
      "29            Grand Canyon  \n",
      "30               Boise St.  \n",
      "31           UNC Asheville  \n",
      "\n",
      "[32 rows x 84 columns]\n",
      "(32, 84)\n"
     ]
    }
   ],
   "source": [
    "# Start fixing the current march madness data\n",
    "march_madness_bracket_2023 = pd.read_csv(\"data/2023MarchMadnessTournament.csv\", na_values=[r'?'])\n",
    "print(march_madness_bracket_2023.head())\n",
    "\n",
    "march_madness_matchups = pd.DataFrame()\n",
    "for i, group in march_madness_bracket_2023.groupby(march_madness_bracket_2023.index // 2):\n",
    "    game = group.iloc[0].append(group.iloc[1])\n",
    "    march_madness_matchups  = march_madness_matchups.append(game, ignore_index=True)\n",
    "\n",
    "# Print the head of the new dataframe\n",
    "print(march_madness_matchups)\n",
    "# Print the shape of the new dataframe, should be double columns half the rows\n",
    "print(march_madness_matchups.shape)"
   ]
  },
  {
   "attachments": {},
   "cell_type": "markdown",
   "id": "2af023ce",
   "metadata": {},
   "source": [
    "Now, we need to make the distiction between TEAM 1 and TEAM 2"
   ]
  },
  {
   "cell_type": "code",
   "execution_count": null,
   "id": "f98f2e11",
   "metadata": {},
   "outputs": [
    {
     "name": "stdout",
     "output_type": "stream",
     "text": [
      "Index(['YEAR (TEAM 1)', 'SEED (TEAM 1)', 'TEAM (TEAM 1)',\n",
      "       'TEAM ROUND (TEAM 1)', 'CURRENT ROUND (TEAM 1)',\n",
      "       'KENPOM ADJUSTED EFFICIENCY (TEAM 1)',\n",
      "       'KENPOM ADJUSTED OFFENSE (TEAM 1)', 'KENPOM ADJUSTED DEFENSE (TEAM 1)',\n",
      "       'KENPOM ADJUSTED TEMPO (TEAM 1)',\n",
      "       'BARTTORVIK ADJUSTED EFFICIENCY (TEAM 1)',\n",
      "       'BARTTORVIK ADJUSTED OFFENSE (TEAM 1)',\n",
      "       'BARTTORVIK ADJUSTED DEFENSE (TEAM 1)', 'BARTHAG (TEAM 1)',\n",
      "       'ELITE SOS (TEAM 1)', 'BARTTORVIK ADJUSTED TEMPO (TEAM 1)',\n",
      "       '2PT % (TEAM 1)', '3PT % (TEAM 1)', 'FREE THROW % (TEAM 1)',\n",
      "       'EFG % (TEAM 1)', 'FREE THROW RATE (TEAM 1)', '3PT RATE (TEAM 1)',\n",
      "       'ASSIST % (TEAM 1)', 'OFFENSIVE REBOUND % (TEAM 1)',\n",
      "       'DEFENSIVE REBOUND % (TEAM 1)', 'BLOCK % (TEAM 1)',\n",
      "       'TURNOVER % (TEAM 1)', '2PT % DEFENSE (TEAM 1)',\n",
      "       '3PT % DEFENSE (TEAM 1)', 'FREE THROW % DEFENSE (TEAM 1)',\n",
      "       'EFG % DEFENSE (TEAM 1)', 'FREE THROW RATE DEFENSE (TEAM 1)',\n",
      "       '3PT RATE DEFENSE (TEAM 1)', 'OP ASSIST % (TEAM 1)',\n",
      "       'OP O REB % (TEAM 1)', 'OP D REB % (TEAM 1)', 'BLOCKED % (TEAM 1)',\n",
      "       'TURNOVER % DEFENSE (TEAM 1)', 'WINS ABOVE BUBBLE (TEAM 1)',\n",
      "       'WIN % (TEAM 1)', 'POINTS PER POSSESSION OFFENSE (TEAM 1)',\n",
      "       'POINTS PER POSSESSION DEFENSE (TEAM 1)', 'TEAM (TEAM 1)',\n",
      "       'YEAR (TEAM 2)', 'SEED (TEAM 2)', 'TEAM (TEAM 2)',\n",
      "       'TEAM ROUND (TEAM 2)', 'CURRENT ROUND (TEAM 2)',\n",
      "       'KENPOM ADJUSTED EFFICIENCY (TEAM 2)',\n",
      "       'KENPOM ADJUSTED OFFENSE (TEAM 2)', 'KENPOM ADJUSTED DEFENSE (TEAM 2)',\n",
      "       'KENPOM ADJUSTED TEMPO (TEAM 2)',\n",
      "       'BARTTORVIK ADJUSTED EFFICIENCY (TEAM 2)',\n",
      "       'BARTTORVIK ADJUSTED OFFENSE (TEAM 2)',\n",
      "       'BARTTORVIK ADJUSTED DEFENSE (TEAM 2)', 'BARTHAG (TEAM 2)',\n",
      "       'ELITE SOS (TEAM 2)', 'BARTTORVIK ADJUSTED TEMPO (TEAM 2)',\n",
      "       '2PT % (TEAM 2)', '3PT % (TEAM 2)', 'FREE THROW % (TEAM 2)',\n",
      "       'EFG % (TEAM 2)', 'FREE THROW RATE (TEAM 2)', '3PT RATE (TEAM 2)',\n",
      "       'ASSIST % (TEAM 2)', 'OFFENSIVE REBOUND % (TEAM 2)',\n",
      "       'DEFENSIVE REBOUND % (TEAM 2)', 'BLOCK % (TEAM 2)',\n",
      "       'TURNOVER % (TEAM 2)', '2PT % DEFENSE (TEAM 2)',\n",
      "       '3PT % DEFENSE (TEAM 2)', 'FREE THROW % DEFENSE (TEAM 2)',\n",
      "       'EFG % DEFENSE (TEAM 2)', 'FREE THROW RATE DEFENSE (TEAM 2)',\n",
      "       '3PT RATE DEFENSE (TEAM 2)', 'OP ASSIST % (TEAM 2)',\n",
      "       'OP O REB % (TEAM 2)', 'OP D REB % (TEAM 2)', 'BLOCKED % (TEAM 2)',\n",
      "       'TURNOVER % DEFENSE (TEAM 2)', 'WINS ABOVE BUBBLE (TEAM 2)',\n",
      "       'WIN % (TEAM 2)', 'POINTS PER POSSESSION OFFENSE (TEAM 2)',\n",
      "       'POINTS PER POSSESSION DEFENSE (TEAM 2)', 'TEAM (TEAM 2)'],\n",
      "      dtype='object')\n",
      "(32, 84)\n"
     ]
    }
   ],
   "source": [
    "march_madness_matchups.rename(columns={\"TEAM.1\": \"TEAM\"}, inplace=True)\n",
    "for i, col_name in enumerate(march_madness_matchups.columns):\n",
    "    if i < 42:\n",
    "        march_madness_matchups.columns.values[i] = march_madness_matchups.columns.values[i].replace(\" (TEAM 1)\", \"\") + \" (TEAM 1)\"\n",
    "    else: \n",
    "        march_madness_matchups.columns.values[i] = march_madness_matchups.columns.values[i].replace(\" (TEAM 2)\", \"\") + \" (TEAM 2)\"\n",
    "\n",
    "print(march_madness_matchups.columns)\n",
    "print(march_madness_matchups.shape)"
   ]
  },
  {
   "attachments": {},
   "cell_type": "markdown",
   "id": "129b7a4c",
   "metadata": {},
   "source": [
    "Here, we remove duplicate and unnecessary values."
   ]
  },
  {
   "cell_type": "code",
   "execution_count": null,
   "id": "8eabe4ba",
   "metadata": {},
   "outputs": [
    {
     "name": "stdout",
     "output_type": "stream",
     "text": [
      "Index(['SEED (TEAM 1)', 'CURRENT ROUND (TEAM 1)',\n",
      "       'KENPOM ADJUSTED EFFICIENCY (TEAM 1)',\n",
      "       'KENPOM ADJUSTED OFFENSE (TEAM 1)', 'KENPOM ADJUSTED DEFENSE (TEAM 1)',\n",
      "       'KENPOM ADJUSTED TEMPO (TEAM 1)',\n",
      "       'BARTTORVIK ADJUSTED EFFICIENCY (TEAM 1)',\n",
      "       'BARTTORVIK ADJUSTED OFFENSE (TEAM 1)',\n",
      "       'BARTTORVIK ADJUSTED DEFENSE (TEAM 1)', 'BARTHAG (TEAM 1)',\n",
      "       'ELITE SOS (TEAM 1)', 'BARTTORVIK ADJUSTED TEMPO (TEAM 1)',\n",
      "       '2PT % (TEAM 1)', '3PT % (TEAM 1)', 'FREE THROW % (TEAM 1)',\n",
      "       'EFG % (TEAM 1)', 'FREE THROW RATE (TEAM 1)', '3PT RATE (TEAM 1)',\n",
      "       'ASSIST % (TEAM 1)', 'OFFENSIVE REBOUND % (TEAM 1)',\n",
      "       'DEFENSIVE REBOUND % (TEAM 1)', 'BLOCK % (TEAM 1)',\n",
      "       'TURNOVER % (TEAM 1)', '2PT % DEFENSE (TEAM 1)',\n",
      "       '3PT % DEFENSE (TEAM 1)', 'FREE THROW % DEFENSE (TEAM 1)',\n",
      "       'EFG % DEFENSE (TEAM 1)', 'FREE THROW RATE DEFENSE (TEAM 1)',\n",
      "       '3PT RATE DEFENSE (TEAM 1)', 'OP ASSIST % (TEAM 1)',\n",
      "       'OP O REB % (TEAM 1)', 'OP D REB % (TEAM 1)', 'BLOCKED % (TEAM 1)',\n",
      "       'TURNOVER % DEFENSE (TEAM 1)', 'WINS ABOVE BUBBLE (TEAM 1)',\n",
      "       'WIN % (TEAM 1)', 'POINTS PER POSSESSION OFFENSE (TEAM 1)',\n",
      "       'POINTS PER POSSESSION DEFENSE (TEAM 1)', 'SEED (TEAM 2)',\n",
      "       'CURRENT ROUND (TEAM 2)', 'KENPOM ADJUSTED EFFICIENCY (TEAM 2)',\n",
      "       'KENPOM ADJUSTED OFFENSE (TEAM 2)', 'KENPOM ADJUSTED DEFENSE (TEAM 2)',\n",
      "       'KENPOM ADJUSTED TEMPO (TEAM 2)',\n",
      "       'BARTTORVIK ADJUSTED EFFICIENCY (TEAM 2)',\n",
      "       'BARTTORVIK ADJUSTED OFFENSE (TEAM 2)',\n",
      "       'BARTTORVIK ADJUSTED DEFENSE (TEAM 2)', 'BARTHAG (TEAM 2)',\n",
      "       'ELITE SOS (TEAM 2)', 'BARTTORVIK ADJUSTED TEMPO (TEAM 2)',\n",
      "       '2PT % (TEAM 2)', '3PT % (TEAM 2)', 'FREE THROW % (TEAM 2)',\n",
      "       'EFG % (TEAM 2)', 'FREE THROW RATE (TEAM 2)', '3PT RATE (TEAM 2)',\n",
      "       'ASSIST % (TEAM 2)', 'OFFENSIVE REBOUND % (TEAM 2)',\n",
      "       'DEFENSIVE REBOUND % (TEAM 2)', 'BLOCK % (TEAM 2)',\n",
      "       'TURNOVER % (TEAM 2)', '2PT % DEFENSE (TEAM 2)',\n",
      "       '3PT % DEFENSE (TEAM 2)', 'FREE THROW % DEFENSE (TEAM 2)',\n",
      "       'EFG % DEFENSE (TEAM 2)', 'FREE THROW RATE DEFENSE (TEAM 2)',\n",
      "       '3PT RATE DEFENSE (TEAM 2)', 'OP ASSIST % (TEAM 2)',\n",
      "       'OP O REB % (TEAM 2)', 'OP D REB % (TEAM 2)', 'BLOCKED % (TEAM 2)',\n",
      "       'TURNOVER % DEFENSE (TEAM 2)', 'WINS ABOVE BUBBLE (TEAM 2)',\n",
      "       'WIN % (TEAM 2)', 'POINTS PER POSSESSION OFFENSE (TEAM 2)',\n",
      "       'POINTS PER POSSESSION DEFENSE (TEAM 2)'],\n",
      "      dtype='object')\n",
      "(32, 76)\n"
     ]
    }
   ],
   "source": [
    "\n",
    "dropped_columns = ['YEAR (TEAM 1)', 'TEAM (TEAM 1)', 'TEAM ROUND (TEAM 1)', 'TEAM (TEAM 1)',\n",
    "                   'YEAR (TEAM 2)', 'TEAM (TEAM 2)', 'TEAM ROUND (TEAM 2)', 'TEAM (TEAM 2)']\n",
    "\n",
    "march_madness_matchups = march_madness_matchups.drop(columns=dropped_columns)\n",
    "print(march_madness_matchups.columns)\n",
    "print(march_madness_matchups.shape)"
   ]
  },
  {
   "attachments": {},
   "cell_type": "markdown",
   "id": "bae18d00",
   "metadata": {},
   "source": [
    "Lastly, we must set the current round to 64 for all teams. We will have to update this for each round we move up in."
   ]
  },
  {
   "cell_type": "code",
   "execution_count": null,
   "id": "3751ff92",
   "metadata": {},
   "outputs": [],
   "source": [
    "march_madness_matchups['CURRENT ROUND (TEAM 1)'] = 64\n",
    "march_madness_matchups['CURRENT ROUND (TEAM 2)'] = 64"
   ]
  },
  {
   "attachments": {},
   "cell_type": "markdown",
   "id": "a2f1726f",
   "metadata": {},
   "source": [
    "Finally, our 2023 Tournament data is in the format that we want it. We will now assemble our best performing model so that we can start making first round predictions."
   ]
  },
  {
   "attachments": {},
   "cell_type": "markdown",
   "id": "121e73d1",
   "metadata": {},
   "source": [
    "## Correct First Round Outcomes"
   ]
  },
  {
   "cell_type": "code",
   "execution_count": 74,
   "id": "89aaf441",
   "metadata": {},
   "outputs": [],
   "source": [
    "actual_outcomes = [0,0,0,1,0,0,0,1,1,1,0,0,0,0,0,0,0,1,0,0,1,0,1,0,0,0,0,0,0,0,0,0]"
   ]
  },
  {
   "cell_type": "code",
   "execution_count": 71,
   "id": "2c6122b2",
   "metadata": {},
   "outputs": [
    {
     "data": {
      "text/html": [
       "<style>#sk-container-id-6 {color: black;background-color: white;}#sk-container-id-6 pre{padding: 0;}#sk-container-id-6 div.sk-toggleable {background-color: white;}#sk-container-id-6 label.sk-toggleable__label {cursor: pointer;display: block;width: 100%;margin-bottom: 0;padding: 0.3em;box-sizing: border-box;text-align: center;}#sk-container-id-6 label.sk-toggleable__label-arrow:before {content: \"▸\";float: left;margin-right: 0.25em;color: #696969;}#sk-container-id-6 label.sk-toggleable__label-arrow:hover:before {color: black;}#sk-container-id-6 div.sk-estimator:hover label.sk-toggleable__label-arrow:before {color: black;}#sk-container-id-6 div.sk-toggleable__content {max-height: 0;max-width: 0;overflow: hidden;text-align: left;background-color: #f0f8ff;}#sk-container-id-6 div.sk-toggleable__content pre {margin: 0.2em;color: black;border-radius: 0.25em;background-color: #f0f8ff;}#sk-container-id-6 input.sk-toggleable__control:checked~div.sk-toggleable__content {max-height: 200px;max-width: 100%;overflow: auto;}#sk-container-id-6 input.sk-toggleable__control:checked~label.sk-toggleable__label-arrow:before {content: \"▾\";}#sk-container-id-6 div.sk-estimator input.sk-toggleable__control:checked~label.sk-toggleable__label {background-color: #d4ebff;}#sk-container-id-6 div.sk-label input.sk-toggleable__control:checked~label.sk-toggleable__label {background-color: #d4ebff;}#sk-container-id-6 input.sk-hidden--visually {border: 0;clip: rect(1px 1px 1px 1px);clip: rect(1px, 1px, 1px, 1px);height: 1px;margin: -1px;overflow: hidden;padding: 0;position: absolute;width: 1px;}#sk-container-id-6 div.sk-estimator {font-family: monospace;background-color: #f0f8ff;border: 1px dotted black;border-radius: 0.25em;box-sizing: border-box;margin-bottom: 0.5em;}#sk-container-id-6 div.sk-estimator:hover {background-color: #d4ebff;}#sk-container-id-6 div.sk-parallel-item::after {content: \"\";width: 100%;border-bottom: 1px solid gray;flex-grow: 1;}#sk-container-id-6 div.sk-label:hover label.sk-toggleable__label {background-color: #d4ebff;}#sk-container-id-6 div.sk-serial::before {content: \"\";position: absolute;border-left: 1px solid gray;box-sizing: border-box;top: 0;bottom: 0;left: 50%;z-index: 0;}#sk-container-id-6 div.sk-serial {display: flex;flex-direction: column;align-items: center;background-color: white;padding-right: 0.2em;padding-left: 0.2em;position: relative;}#sk-container-id-6 div.sk-item {position: relative;z-index: 1;}#sk-container-id-6 div.sk-parallel {display: flex;align-items: stretch;justify-content: center;background-color: white;position: relative;}#sk-container-id-6 div.sk-item::before, #sk-container-id-6 div.sk-parallel-item::before {content: \"\";position: absolute;border-left: 1px solid gray;box-sizing: border-box;top: 0;bottom: 0;left: 50%;z-index: -1;}#sk-container-id-6 div.sk-parallel-item {display: flex;flex-direction: column;z-index: 1;position: relative;background-color: white;}#sk-container-id-6 div.sk-parallel-item:first-child::after {align-self: flex-end;width: 50%;}#sk-container-id-6 div.sk-parallel-item:last-child::after {align-self: flex-start;width: 50%;}#sk-container-id-6 div.sk-parallel-item:only-child::after {width: 0;}#sk-container-id-6 div.sk-dashed-wrapped {border: 1px dashed gray;margin: 0 0.4em 0.5em 0.4em;box-sizing: border-box;padding-bottom: 0.4em;background-color: white;}#sk-container-id-6 div.sk-label label {font-family: monospace;font-weight: bold;display: inline-block;line-height: 1.2em;}#sk-container-id-6 div.sk-label-container {text-align: center;}#sk-container-id-6 div.sk-container {/* jupyter's `normalize.less` sets `[hidden] { display: none; }` but bootstrap.min.css set `[hidden] { display: none !important; }` so we also need the `!important` here to be able to override the default hidden behavior on the sphinx rendered scikit-learn.org. See: https://github.com/scikit-learn/scikit-learn/issues/21755 */display: inline-block !important;position: relative;}#sk-container-id-6 div.sk-text-repr-fallback {display: none;}</style><div id=\"sk-container-id-6\" class=\"sk-top-container\"><div class=\"sk-text-repr-fallback\"><pre>LogisticRegression(C=0.001, solver=&#x27;liblinear&#x27;)</pre><b>In a Jupyter environment, please rerun this cell to show the HTML representation or trust the notebook. <br />On GitHub, the HTML representation is unable to render, please try loading this page with nbviewer.org.</b></div><div class=\"sk-container\" hidden><div class=\"sk-item\"><div class=\"sk-estimator sk-toggleable\"><input class=\"sk-toggleable__control sk-hidden--visually\" id=\"sk-estimator-id-6\" type=\"checkbox\" checked><label for=\"sk-estimator-id-6\" class=\"sk-toggleable__label sk-toggleable__label-arrow\">LogisticRegression</label><div class=\"sk-toggleable__content\"><pre>LogisticRegression(C=0.001, solver=&#x27;liblinear&#x27;)</pre></div></div></div></div></div>"
      ],
      "text/plain": [
       "LogisticRegression(C=0.001, solver='liblinear')"
      ]
     },
     "execution_count": 71,
     "metadata": {},
     "output_type": "execute_result"
    }
   ],
   "source": [
    "# Now our 2023 march madness bracket is assembled, lets make the first round predictions\n",
    "scaler = StandardScaler()\n",
    "x_data = scaler.fit_transform(tournament_game_matchups.drop(['RESULT'],axis=1))\n",
    "lgr = LogisticRegression(C=0.001, penalty=\"l2\", solver=\"liblinear\")\n",
    "\n",
    "# Train the model on your data (X_train and y_train)\n",
    "lgr.fit(x_data, y_data)"
   ]
  },
  {
   "attachments": {},
   "cell_type": "markdown",
   "id": "50e74b98",
   "metadata": {},
   "source": [
    "### First Round Predictions\n",
    "\n",
    "Now that we have assembled our model, we are ready to pass in the 2023 tournament data frame (which equates to all the first round matchups) in."
   ]
  },
  {
   "cell_type": "code",
   "execution_count": 78,
   "id": "790011cd",
   "metadata": {},
   "outputs": [
    {
     "name": "stdout",
     "output_type": "stream",
     "text": [
      "Accuracy score: 53.12%\n"
     ]
    },
    {
     "name": "stderr",
     "output_type": "stream",
     "text": [
      "c:\\Users\\Ethan\\AppData\\Local\\Programs\\Python\\Python310\\lib\\site-packages\\sklearn\\base.py:432: UserWarning: X has feature names, but LogisticRegression was fitted without feature names\n",
      "  warnings.warn(\n"
     ]
    }
   ],
   "source": [
    "from sklearn.metrics import accuracy_score\n",
    "predictions = lgr.predict(march_madness_matchups)\n",
    "\n",
    "acc_score = accuracy_score(actual_outcomes, predictions)\n",
    "print(\"Accuracy score: {:.2f}%\".format(acc_score * 100))"
   ]
  }
 ],
 "metadata": {
  "kernelspec": {
   "display_name": "Python 3 (ipykernel)",
   "language": "python",
   "name": "python3"
  },
  "language_info": {
   "codemirror_mode": {
    "name": "ipython",
    "version": 3
   },
   "file_extension": ".py",
   "mimetype": "text/x-python",
   "name": "python",
   "nbconvert_exporter": "python",
   "pygments_lexer": "ipython3",
   "version": "3.9.13"
  }
 },
 "nbformat": 4,
 "nbformat_minor": 5
}
